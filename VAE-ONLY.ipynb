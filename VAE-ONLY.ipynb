{
 "cells": [
  {
   "cell_type": "code",
   "execution_count": 1,
   "metadata": {
    "colab": {
     "base_uri": "https://localhost:8080/",
     "height": 34
    },
    "colab_type": "code",
    "collapsed": true,
    "executionInfo": {
     "elapsed": 1573,
     "status": "ok",
     "timestamp": 1587783935152,
     "user": {
      "displayName": "Pierre Besson",
      "photoUrl": "https://lh3.googleusercontent.com/a-/AOh14GjsjJTjx005_2UQYExcZ9CVu8Atj0_UN1VGKPsHgg=s64",
      "userId": "17266492722066909081"
     },
     "user_tz": 300
    },
    "id": "S7ZbxgsvjCiw",
    "outputId": "f24e8d03-1713-4750-ca38-b78c82d5d258"
   },
   "outputs": [],
   "source": [
    "# %tensorflow_version 2.x\n",
    "# from google.colab import drive\n",
    "# drive.mount('/content/drive', force_remount=True)\n",
    "# GD = \"/content/drive/My Drive/DeepLearning/\"\n",
    "# import sys\n",
    "# sys.path.append(GD + 'code/')"
   ]
  },
  {
   "cell_type": "code",
   "execution_count": 1,
   "metadata": {
    "collapsed": true
   },
   "outputs": [],
   "source": [
    "import numpy as np\n",
    "import scipy as sp\n",
    "\n",
    "import os\n",
    "\n",
    "import warnings\n",
    "warnings.filterwarnings('ignore')\n",
    "from tensorflow.python.util import deprecation\n",
    "deprecation._PRINT_DEPRECATION_WARNINGS = False\n",
    "\n",
    "import tensorflow.keras as keras\n",
    "import tensorflow as tf\n",
    "\n",
    "import pickle\n",
    "import random\n",
    "\n",
    "from sklearn.model_selection import KFold\n",
    "from scipy.sparse import block_diag as sparse_block_diag\n",
    "from sklearn.preprocessing import LabelEncoder\n",
    "\n",
    "from datetime import datetime\n",
    "\n",
    "from utils.labels_preprocessing import load_labels\n",
    "from utils.load_synced_inputs import load_inputs, load_fmri\n",
    "from utils.load_graphs import load_graph\n",
    "from cnn_graph.resnetgraph import cgcnn\n",
    "from cnn_graph import graph\n",
    "import tensorflow.keras.backend as K\n",
    "from new_utils import utils"
   ]
  },
  {
   "cell_type": "code",
   "execution_count": 2,
   "metadata": {},
   "outputs": [
    {
     "data": {
      "text/plain": [
       "True"
      ]
     },
     "execution_count": 2,
     "metadata": {},
     "output_type": "execute_result"
    }
   ],
   "source": [
    "tf.test.is_gpu_available()"
   ]
  },
  {
   "cell_type": "code",
   "execution_count": 3,
   "metadata": {
    "collapsed": true
   },
   "outputs": [],
   "source": [
    "# fmri preprocess\n",
    "\n",
    "fmri_subcortical_dir = 'path for the Subcortical_fmri dataset'\n",
    "# fmri_subcortical_dir = 'C:/Users/YuNan/Downloads/auto_encoder_try/data/Subcortical_fmri'\n",
    "assert len(os.listdir(fmri_subcortical_dir)) == len(set(os.listdir(fmri_subcortical_dir)))\n"
   ]
  },
  {
   "cell_type": "code",
   "execution_count": 4,
   "metadata": {},
   "outputs": [
    {
     "name": "stdout",
     "output_type": "stream",
     "text": [
      "[<14848x14848 sparse matrix of type '<class 'numpy.float32'>'\n",
      "\twith 103768 stored elements in Compressed Sparse Row format>, <7424x7424 sparse matrix of type '<class 'numpy.float32'>'\n",
      "\twith 51800 stored elements in Compressed Sparse Row format>, <3712x3712 sparse matrix of type '<class 'numpy.float32'>'\n",
      "\twith 25816 stored elements in Compressed Sparse Row format>, <1856x1856 sparse matrix of type '<class 'numpy.float32'>'\n",
      "\twith 12824 stored elements in Compressed Sparse Row format>, <928x928 sparse matrix of type '<class 'numpy.float32'>'\n",
      "\twith 6328 stored elements in Compressed Sparse Row format>, <464x464 sparse matrix of type '<class 'numpy.float32'>'\n",
      "\twith 3080 stored elements in Compressed Sparse Row format>, <232x232 sparse matrix of type '<class 'numpy.float32'>'\n",
      "\twith 1456 stored elements in Compressed Sparse Row format>, <116x116 sparse matrix of type '<class 'numpy.float32'>'\n",
      "\twith 648 stored elements in Compressed Sparse Row format>]\n"
     ]
    }
   ],
   "source": [
    "home = f\"{os.getcwd()}/..\"\n",
    "\n",
    "graphs_dir = \"../Graphs/\"            # directory containing necessary graphs\n",
    "# print(graphs_dir)\n",
    "# cortical_dir = f\"{home}/Cortical\"         # cortical node data for each subject\n",
    "# subcortical_dir = f\"{home}/SubCortical\"   # subcortical node data for each subject\n",
    "# cortical_dir = 'C:/Users/YuNan/Downloads/auto_encoder_try/data/Cortex'\n",
    "subcortical_dir = '../Subcortical'\n",
    "\n",
    "# for scan in os.listdir(cortical_dir):\n",
    "#     print (f\"{scan[:-11]}_Subcortical\")\n",
    "#     assert os.path.isfile(f\"{subcortical_dir}/{scan[:-11]}_Subcortical.mat\")\n",
    "\n",
    "assert len(os.listdir(subcortical_dir)) == len(set(os.listdir(subcortical_dir)))\n",
    "\n",
    "# L = {'cortical': load_graph(graphs_folder=graphs_dir, prefix='M_w')}\n",
    "# # print(L)\n",
    "# L['cortical'] = [graph.laplacian(A) for A in L['cortical']]\n",
    "# # print(L['cortical'])\n",
    "\n",
    "L = {'subcortical' : load_graph(graphs_folder=graphs_dir, prefix='M_sc_w')}\n",
    "L['subcortical'] = [graph.laplacian(A) for A in L['subcortical']]\n",
    "print(L['subcortical'])\n",
    "\n",
    "# # Block Diagonalize the Cortical & Subcortical Laplacians at Each Level of Coarsening\n",
    "new_L = []\n",
    "for A in zip(L[f\"subcortical\"]):\n",
    "    new_L.append( sparse_block_diag((A)) )\n",
    "L = new_L\n",
    "# print(L)\n",
    "del new_L"
   ]
  },
  {
   "cell_type": "code",
   "execution_count": 5,
   "metadata": {},
   "outputs": [
    {
     "data": {
      "text/plain": [
       "[<14848x14848 sparse matrix of type '<class 'numpy.float32'>'\n",
       " \twith 103768 stored elements in Compressed Sparse Row format>,\n",
       " <7424x7424 sparse matrix of type '<class 'numpy.float32'>'\n",
       " \twith 51800 stored elements in Compressed Sparse Row format>,\n",
       " <3712x3712 sparse matrix of type '<class 'numpy.float32'>'\n",
       " \twith 25816 stored elements in Compressed Sparse Row format>,\n",
       " <1856x1856 sparse matrix of type '<class 'numpy.float32'>'\n",
       " \twith 12824 stored elements in Compressed Sparse Row format>,\n",
       " <928x928 sparse matrix of type '<class 'numpy.float32'>'\n",
       " \twith 6328 stored elements in Compressed Sparse Row format>,\n",
       " <464x464 sparse matrix of type '<class 'numpy.float32'>'\n",
       " \twith 3080 stored elements in Compressed Sparse Row format>,\n",
       " <232x232 sparse matrix of type '<class 'numpy.float32'>'\n",
       " \twith 1456 stored elements in Compressed Sparse Row format>,\n",
       " <116x116 sparse matrix of type '<class 'numpy.float32'>'\n",
       " \twith 648 stored elements in Compressed Sparse Row format>]"
      ]
     },
     "execution_count": 5,
     "metadata": {},
     "output_type": "execute_result"
    }
   ],
   "source": [
    "L"
   ]
  },
  {
   "cell_type": "code",
   "execution_count": 6,
   "metadata": {},
   "outputs": [
    {
     "data": {
      "text/html": [
       "<div>\n",
       "<style scoped>\n",
       "    .dataframe tbody tr th:only-of-type {\n",
       "        vertical-align: middle;\n",
       "    }\n",
       "\n",
       "    .dataframe tbody tr th {\n",
       "        vertical-align: top;\n",
       "    }\n",
       "\n",
       "    .dataframe thead th {\n",
       "        text-align: right;\n",
       "    }\n",
       "</style>\n",
       "<table border=\"1\" class=\"dataframe\">\n",
       "  <thead>\n",
       "    <tr style=\"text-align: right;\">\n",
       "      <th></th>\n",
       "      <th>Subject</th>\n",
       "    </tr>\n",
       "  </thead>\n",
       "  <tbody>\n",
       "    <tr>\n",
       "      <th>0</th>\n",
       "      <td>1000102_20252_2_0</td>\n",
       "    </tr>\n",
       "    <tr>\n",
       "      <th>1</th>\n",
       "      <td>1000710_20252_2_0</td>\n",
       "    </tr>\n",
       "    <tr>\n",
       "      <th>2</th>\n",
       "      <td>1000742_20252_2_0</td>\n",
       "    </tr>\n",
       "    <tr>\n",
       "      <th>3</th>\n",
       "      <td>1001275_20252_2_0</td>\n",
       "    </tr>\n",
       "    <tr>\n",
       "      <th>4</th>\n",
       "      <td>1001693_20252_2_0</td>\n",
       "    </tr>\n",
       "    <tr>\n",
       "      <th>...</th>\n",
       "      <td>...</td>\n",
       "    </tr>\n",
       "    <tr>\n",
       "      <th>190</th>\n",
       "      <td>1030712_20252_2_0</td>\n",
       "    </tr>\n",
       "    <tr>\n",
       "      <th>191</th>\n",
       "      <td>1030841_20252_2_0</td>\n",
       "    </tr>\n",
       "    <tr>\n",
       "      <th>192</th>\n",
       "      <td>1030960_20252_2_0</td>\n",
       "    </tr>\n",
       "    <tr>\n",
       "      <th>193</th>\n",
       "      <td>1031057_20252_2_0</td>\n",
       "    </tr>\n",
       "    <tr>\n",
       "      <th>194</th>\n",
       "      <td>1031135_20252_2_0</td>\n",
       "    </tr>\n",
       "  </tbody>\n",
       "</table>\n",
       "<p>195 rows × 1 columns</p>\n",
       "</div>"
      ],
      "text/plain": [
       "               Subject\n",
       "0    1000102_20252_2_0\n",
       "1    1000710_20252_2_0\n",
       "2    1000742_20252_2_0\n",
       "3    1001275_20252_2_0\n",
       "4    1001693_20252_2_0\n",
       "..                 ...\n",
       "190  1030712_20252_2_0\n",
       "191  1030841_20252_2_0\n",
       "192  1030960_20252_2_0\n",
       "193  1031057_20252_2_0\n",
       "194  1031135_20252_2_0\n",
       "\n",
       "[195 rows x 1 columns]"
      ]
     },
     "execution_count": 6,
     "metadata": {},
     "output_type": "execute_result"
    }
   ],
   "source": [
    "# load the dataset \n",
    "import pandas as pd\n",
    "Path = '../data.csv'   # table for all the subjects\n",
    "df = pd.read_csv(Path)\n",
    "filenames = df['Subject'].astype('str').to_numpy()\n",
    "# print(filenames)\n",
    "filenames2 = (filenames + '_Subcortical' +'.mat').tolist()\n",
    "# print(filenames2)\n",
    "df"
   ]
  },
  {
   "cell_type": "code",
   "execution_count": 9,
   "metadata": {},
   "outputs": [
    {
     "name": "stdout",
     "output_type": "stream",
     "text": [
      "Subcortical\t(Samples, Nodes, Feat.):\t(195, 14848, 490)\n"
     ]
    }
   ],
   "source": [
    "# fmri \n",
    "graph_type = {'subcortical':{'path':fmri_subcortical_dir, \n",
    "                             'halves':False}\n",
    "}\n",
    "\n",
    "\n",
    "X = load_fmri(graph_type=graph_type, filenames = filenames2)\n",
    "\n",
    "sub_graphs = list(graph_type.keys())\n",
    "assert sub_graphs == ['subcortical']"
   ]
  },
  {
   "cell_type": "code",
   "execution_count": 10,
   "metadata": {
    "collapsed": true
   },
   "outputs": [],
   "source": [
    "# try\n",
    "X_try = {}\n",
    "X_try['subcortical'] = X['subcortical'][:100,:,10:]\n",
    "del X\n",
    "# X_try['subcortical'] = X['subcortical'][:,:,0:200]\n",
    "X_try['subcortical'].shape\n",
    "X = X_try\n",
    "del X_try"
   ]
  },
  {
   "cell_type": "code",
   "execution_count": 11,
   "metadata": {},
   "outputs": [
    {
     "data": {
      "text/plain": [
       "(100, 14848, 480)"
      ]
     },
     "execution_count": 11,
     "metadata": {},
     "output_type": "execute_result"
    }
   ],
   "source": [
    "X['subcortical'].shape"
   ]
  },
  {
   "cell_type": "code",
   "execution_count": 12,
   "metadata": {},
   "outputs": [
    {
     "name": "stdout",
     "output_type": "stream",
     "text": [
      "0.019178856 40.186802\n"
     ]
    },
    {
     "data": {
      "text/plain": [
       "(100, 14848, 480)"
      ]
     },
     "execution_count": 12,
     "metadata": {},
     "output_type": "execute_result"
    }
   ],
   "source": [
    "# fmri block\n",
    "from scipy.linalg import block_diag\n",
    "from sklearn.utils import resample\n",
    "\n",
    "all_nodes = np.concatenate([X[sub].flatten() for sub in sub_graphs])\n",
    "# X_max = np.max(all_nodes)\n",
    "# X_min = np.min(all_nodes)\n",
    "X_mean = np.mean(all_nodes)\n",
    "X_std = np.std(all_nodes)\n",
    "\n",
    "print(X_mean, X_std)\n",
    "\n",
    "for sub in sub_graphs:\n",
    "    X[sub] = (X[sub] - X_mean) / X_std\n",
    "#     X[sub] *= 2\n",
    "#     X[sub] -= 1\n",
    "del all_nodes   \n",
    "all_nodes = np.concatenate([X[sub].flatten() for sub in sub_graphs])\n",
    "del all_nodes\n",
    "\n",
    "new_X = []\n",
    "for A in zip(X[f\"subcortical\"]):\n",
    "    new_X.append(np.concatenate((A), axis = 0))\n",
    "    \n",
    "X = np.concatenate([np.expand_dims(i, axis=0) for i in new_X], axis=0).astype('float32')\n",
    "X.shape\n"
   ]
  },
  {
   "cell_type": "code",
   "execution_count": 13,
   "metadata": {
    "collapsed": true
   },
   "outputs": [],
   "source": [
    "# split with time point\n",
    "new_X = []\n",
    "# bb.T.reshape()\n",
    "for i in range(X.shape[0]):\n",
    "    new_X.append(X[i,:,:].T)\n",
    "new_XX = np.concatenate([np.expand_dims(i, axis=0) for i in new_X], axis=0).astype('float32')\n",
    "X_re = np.reshape(new_XX, (X.shape[0]* X.shape[2], X.shape[1], 1))\n",
    "X_re.shape\n",
    "del X"
   ]
  },
  {
   "cell_type": "code",
   "execution_count": 14,
   "metadata": {},
   "outputs": [
    {
     "data": {
      "text/plain": [
       "(48000, 14848, 1)"
      ]
     },
     "execution_count": 14,
     "metadata": {},
     "output_type": "execute_result"
    }
   ],
   "source": [
    "# import matplotlib.pyplot as plt\n",
    "# fig = X_re[100, :, :]\n",
    "# plt.plot(fig)\n",
    "X_re.shape"
   ]
  },
  {
   "cell_type": "code",
   "execution_count": 15,
   "metadata": {},
   "outputs": [
    {
     "name": "stdout",
     "output_type": "stream",
     "text": [
      "(48000, 14848)\n",
      "False\n",
      "False\n",
      "False\n",
      "16.902107 -20.660309\n"
     ]
    }
   ],
   "source": [
    "tryy = np.squeeze(X_re, axis=-1)\n",
    "print(tryy.shape)\n",
    "print(np.any(np.isnan(tryy)))\n",
    "print(np.any(np.isposinf(tryy)))\n",
    "print(np.any(np.isneginf(tryy)))\n",
    "print(np.max(tryy), np.min(tryy))\n",
    "del tryy"
   ]
  },
  {
   "cell_type": "code",
   "execution_count": 16,
   "metadata": {
    "colab": {},
    "colab_type": "code",
    "id": "goQRb1A3jY5y"
   },
   "outputs": [
    {
     "name": "stdout",
     "output_type": "stream",
     "text": [
      "(38400, 14848, 1) (9600, 14848, 1)\n"
     ]
    }
   ],
   "source": [
    "\n",
    "batch_size = 16\n",
    "epochs = 50\n",
    "n_filter = 32\n",
    "\n",
    "# aug_training = dict()\n",
    "# aug_training[\"max_rotation\"] = 40\n",
    "# aug_training[\"max_zoom\"] = 0.05\n",
    "# aug_training[\"max_noise\"] = 0.000\n",
    "# aug_training[\"max_shift\"] = 0.001\n",
    "# aug_training[\"prob_augment\"] = 1.\n",
    "\n",
    "# aug_testing = dict()\n",
    "# aug_testing[\"max_rotation\"] = 20\n",
    "# aug_testing[\"max_zoom\"] = 0.025\n",
    "# aug_testing[\"max_noise\"] = 0.000\n",
    "# aug_testing[\"max_shift\"] = 0.0005\n",
    "# aug_testing[\"prob_augment\"] = 1.\n",
    "\n",
    "X_train, X_test = X_re[:80*480,:,:], X_re[80*480:,:,:]\n",
    "# X_ttest = X_re[39000:,:,:]\n",
    "del X_re\n",
    "print(X_train.shape, X_test.shape)\n",
    "train_generator = utils.DataGenerator(X_train, \n",
    "                                      batch_size = batch_size, \n",
    "                                      shuffle=True, \n",
    "                                      force_balance=False, \n",
    "                                      do_augmentation = False, \n",
    "#                                       tta=10, \n",
    "#                                       aug_params=aug_training,\n",
    "                                      auto_encoder=True)\n",
    "test_generator  = utils.DataGenerator(X_test,  \n",
    "                                      batch_size = batch_size, \n",
    "                                      shuffle=False, \n",
    "                                      force_balance=False, \n",
    "                                      do_augmentation = False, \n",
    "#                                       tta=10, \n",
    "#                                       aug_params=aug_testing,\n",
    "                                      auto_encoder=True)\n",
    "\n",
    "# ttest_generator  = utils.DataGenerator(X_ttest,  \n",
    "#                                       batch_size = 1, \n",
    "#                                       shuffle=False, \n",
    "#                                       force_balance=False, \n",
    "#                                       do_augmentation = False, \n",
    "# #                                       tta=10, \n",
    "# #                                       aug_params=aug_testing,\n",
    "#                                       auto_encoder=True)"
   ]
  },
  {
   "cell_type": "code",
   "execution_count": 17,
   "metadata": {},
   "outputs": [
    {
     "name": "stdout",
     "output_type": "stream",
     "text": [
      "2400\n"
     ]
    },
    {
     "data": {
      "text/plain": [
       "600"
      ]
     },
     "execution_count": 17,
     "metadata": {},
     "output_type": "execute_result"
    }
   ],
   "source": [
    "print(len(train_generator))\n",
    "len(test_generator)"
   ]
  },
  {
   "cell_type": "code",
   "execution_count": 20,
   "metadata": {},
   "outputs": [
    {
     "data": {
      "text/plain": [
       "[<matplotlib.lines.Line2D at 0x1ef53ba3d48>]"
      ]
     },
     "execution_count": 20,
     "metadata": {},
     "output_type": "execute_result"
    },
    {
     "data": {
      "image/png": "[encoded data removed]",
      "text/plain": [
       "<Figure size 432x288 with 1 Axes>"
      ]
     },
     "metadata": {
      "needs_background": "light"
     },
     "output_type": "display_data"
    }
   ],
   "source": [
    "import matplotlib.pyplot as plt\n",
    "fig = X_train[0, :, :]\n",
    "plt.plot(fig)"
   ]
  },
  {
   "cell_type": "code",
   "execution_count": 20,
   "metadata": {},
   "outputs": [
    {
     "data": {
      "text/plain": [
       "(9600, 14848, 1)"
      ]
     },
     "execution_count": 20,
     "metadata": {},
     "output_type": "execute_result"
    }
   ],
   "source": [
    "X_test.shape"
   ]
  },
  {
   "cell_type": "markdown",
   "metadata": {
    "colab_type": "text",
    "id": "C4o5Wr64kf7C"
   },
   "source": [
    "## Architecture of the network"
   ]
  },
  {
   "cell_type": "code",
   "execution_count": 18,
   "metadata": {
    "colab": {},
    "colab_type": "code",
    "id": "a4qyWDmujQnE"
   },
   "outputs": [
    {
     "name": "stdout",
     "output_type": "stream",
     "text": [
      "(?, 14848, 1)\n",
      "Model: \"encoder\"\n",
      "__________________________________________________________________________________________________\n",
      "Layer (type)                    Output Shape         Param #     Connected to                     \n",
      "==================================================================================================\n",
      "input_1 (InputLayer)            [(None, 14848, 1)]   0                                            \n",
      "__________________________________________________________________________________________________\n",
      "cheb_layer (ChebLayer)          (None, 14848, 32)    128         input_1[0][0]                    \n",
      "__________________________________________________________________________________________________\n",
      "batch_normalization (BatchNorma (None, 14848, 32)    128         cheb_layer[0][0]                 \n",
      "__________________________________________________________________________________________________\n",
      "activation (Activation)         (None, 14848, 32)    0           batch_normalization[0][0]        \n",
      "__________________________________________________________________________________________________\n",
      "cheb_layer_1 (ChebLayer)        (None, 14848, 32)    3072        activation[0][0]                 \n",
      "__________________________________________________________________________________________________\n",
      "batch_normalization_1 (BatchNor (None, 14848, 32)    128         cheb_layer_1[0][0]               \n",
      "__________________________________________________________________________________________________\n",
      "activation_1 (Activation)       (None, 14848, 32)    0           batch_normalization_1[0][0]      \n",
      "__________________________________________________________________________________________________\n",
      "cheb_layer_2 (ChebLayer)        (None, 14848, 32)    3104        activation_1[0][0]               \n",
      "__________________________________________________________________________________________________\n",
      "batch_normalization_2 (BatchNor (None, 14848, 32)    128         cheb_layer_2[0][0]               \n",
      "__________________________________________________________________________________________________\n",
      "activation_2 (Activation)       (None, 14848, 32)    0           batch_normalization_2[0][0]      \n",
      "__________________________________________________________________________________________________\n",
      "cheb_layer_3 (ChebLayer)        (None, 14848, 32)    3072        activation_2[0][0]               \n",
      "__________________________________________________________________________________________________\n",
      "batch_normalization_3 (BatchNor (None, 14848, 32)    128         cheb_layer_3[0][0]               \n",
      "__________________________________________________________________________________________________\n",
      "activation_3 (Activation)       (None, 14848, 32)    0           batch_normalization_3[0][0]      \n",
      "__________________________________________________________________________________________________\n",
      "max_pooling1d (MaxPooling1D)    (None, 7424, 32)     0           activation_3[0][0]               \n",
      "__________________________________________________________________________________________________\n",
      "cheb_layer_4 (ChebLayer)        (None, 7424, 32)     3104        max_pooling1d[0][0]              \n",
      "__________________________________________________________________________________________________\n",
      "batch_normalization_4 (BatchNor (None, 7424, 32)     128         cheb_layer_4[0][0]               \n",
      "__________________________________________________________________________________________________\n",
      "activation_4 (Activation)       (None, 7424, 32)     0           batch_normalization_4[0][0]      \n",
      "__________________________________________________________________________________________________\n",
      "cheb_layer_5 (ChebLayer)        (None, 7424, 32)     3072        activation_4[0][0]               \n",
      "__________________________________________________________________________________________________\n",
      "batch_normalization_5 (BatchNor (None, 7424, 32)     128         cheb_layer_5[0][0]               \n",
      "__________________________________________________________________________________________________\n",
      "activation_5 (Activation)       (None, 7424, 32)     0           batch_normalization_5[0][0]      \n",
      "__________________________________________________________________________________________________\n",
      "cheb_layer_6 (ChebLayer)        (None, 7424, 32)     3104        activation_5[0][0]               \n",
      "__________________________________________________________________________________________________\n",
      "batch_normalization_6 (BatchNor (None, 7424, 32)     128         cheb_layer_6[0][0]               \n",
      "__________________________________________________________________________________________________\n",
      "activation_6 (Activation)       (None, 7424, 32)     0           batch_normalization_6[0][0]      \n",
      "__________________________________________________________________________________________________\n",
      "cheb_layer_7 (ChebLayer)        (None, 7424, 32)     3072        activation_6[0][0]               \n",
      "__________________________________________________________________________________________________\n",
      "batch_normalization_7 (BatchNor (None, 7424, 32)     128         cheb_layer_7[0][0]               \n",
      "__________________________________________________________________________________________________\n",
      "activation_7 (Activation)       (None, 7424, 32)     0           batch_normalization_7[0][0]      \n",
      "__________________________________________________________________________________________________\n",
      "max_pooling1d_1 (MaxPooling1D)  (None, 3712, 32)     0           activation_7[0][0]               \n",
      "__________________________________________________________________________________________________\n",
      "cheb_layer_8 (ChebLayer)        (None, 3712, 32)     3104        max_pooling1d_1[0][0]            \n",
      "__________________________________________________________________________________________________\n",
      "batch_normalization_8 (BatchNor (None, 3712, 32)     128         cheb_layer_8[0][0]               \n",
      "__________________________________________________________________________________________________\n",
      "activation_8 (Activation)       (None, 3712, 32)     0           batch_normalization_8[0][0]      \n",
      "__________________________________________________________________________________________________\n",
      "cheb_layer_9 (ChebLayer)        (None, 3712, 32)     3072        activation_8[0][0]               \n",
      "__________________________________________________________________________________________________\n",
      "batch_normalization_9 (BatchNor (None, 3712, 32)     128         cheb_layer_9[0][0]               \n",
      "__________________________________________________________________________________________________\n",
      "activation_9 (Activation)       (None, 3712, 32)     0           batch_normalization_9[0][0]      \n",
      "__________________________________________________________________________________________________\n",
      "cheb_layer_10 (ChebLayer)       (None, 3712, 32)     3104        activation_9[0][0]               \n",
      "__________________________________________________________________________________________________\n",
      "batch_normalization_10 (BatchNo (None, 3712, 32)     128         cheb_layer_10[0][0]              \n",
      "__________________________________________________________________________________________________\n",
      "activation_10 (Activation)      (None, 3712, 32)     0           batch_normalization_10[0][0]     \n",
      "__________________________________________________________________________________________________\n",
      "cheb_layer_11 (ChebLayer)       (None, 3712, 32)     3072        activation_10[0][0]              \n",
      "__________________________________________________________________________________________________\n",
      "batch_normalization_11 (BatchNo (None, 3712, 32)     128         cheb_layer_11[0][0]              \n",
      "__________________________________________________________________________________________________\n",
      "activation_11 (Activation)      (None, 3712, 32)     0           batch_normalization_11[0][0]     \n",
      "__________________________________________________________________________________________________\n",
      "max_pooling1d_2 (MaxPooling1D)  (None, 1856, 32)     0           activation_11[0][0]              \n",
      "__________________________________________________________________________________________________\n",
      "cheb_layer_12 (ChebLayer)       (None, 1856, 32)     3104        max_pooling1d_2[0][0]            \n",
      "__________________________________________________________________________________________________\n",
      "batch_normalization_12 (BatchNo (None, 1856, 32)     128         cheb_layer_12[0][0]              \n",
      "__________________________________________________________________________________________________\n",
      "activation_12 (Activation)      (None, 1856, 32)     0           batch_normalization_12[0][0]     \n",
      "__________________________________________________________________________________________________\n",
      "cheb_layer_13 (ChebLayer)       (None, 1856, 32)     3072        activation_12[0][0]              \n",
      "__________________________________________________________________________________________________\n",
      "batch_normalization_13 (BatchNo (None, 1856, 32)     128         cheb_layer_13[0][0]              \n",
      "__________________________________________________________________________________________________\n",
      "activation_13 (Activation)      (None, 1856, 32)     0           batch_normalization_13[0][0]     \n",
      "__________________________________________________________________________________________________\n",
      "cheb_layer_14 (ChebLayer)       (None, 1856, 32)     3104        activation_13[0][0]              \n",
      "__________________________________________________________________________________________________\n",
      "batch_normalization_14 (BatchNo (None, 1856, 32)     128         cheb_layer_14[0][0]              \n",
      "__________________________________________________________________________________________________\n",
      "activation_14 (Activation)      (None, 1856, 32)     0           batch_normalization_14[0][0]     \n",
      "__________________________________________________________________________________________________\n",
      "cheb_layer_15 (ChebLayer)       (None, 1856, 32)     3072        activation_14[0][0]              \n",
      "__________________________________________________________________________________________________\n",
      "batch_normalization_15 (BatchNo (None, 1856, 32)     128         cheb_layer_15[0][0]              \n",
      "__________________________________________________________________________________________________\n",
      "activation_15 (Activation)      (None, 1856, 32)     0           batch_normalization_15[0][0]     \n",
      "__________________________________________________________________________________________________\n",
      "max_pooling1d_3 (MaxPooling1D)  (None, 928, 32)      0           activation_15[0][0]              \n",
      "__________________________________________________________________________________________________\n",
      "cheb_layer_16 (ChebLayer)       (None, 928, 32)      3104        max_pooling1d_3[0][0]            \n",
      "__________________________________________________________________________________________________\n",
      "batch_normalization_16 (BatchNo (None, 928, 32)      128         cheb_layer_16[0][0]              \n",
      "__________________________________________________________________________________________________\n",
      "activation_16 (Activation)      (None, 928, 32)      0           batch_normalization_16[0][0]     \n",
      "__________________________________________________________________________________________________\n",
      "cheb_layer_17 (ChebLayer)       (None, 928, 32)      3072        activation_16[0][0]              \n",
      "__________________________________________________________________________________________________\n",
      "batch_normalization_17 (BatchNo (None, 928, 32)      128         cheb_layer_17[0][0]              \n",
      "__________________________________________________________________________________________________\n",
      "activation_17 (Activation)      (None, 928, 32)      0           batch_normalization_17[0][0]     \n",
      "__________________________________________________________________________________________________\n",
      "cheb_layer_18 (ChebLayer)       (None, 928, 32)      3104        activation_17[0][0]              \n",
      "__________________________________________________________________________________________________\n",
      "batch_normalization_18 (BatchNo (None, 928, 32)      128         cheb_layer_18[0][0]              \n",
      "__________________________________________________________________________________________________\n",
      "activation_18 (Activation)      (None, 928, 32)      0           batch_normalization_18[0][0]     \n",
      "__________________________________________________________________________________________________\n",
      "cheb_layer_19 (ChebLayer)       (None, 928, 32)      3072        activation_18[0][0]              \n",
      "__________________________________________________________________________________________________\n",
      "batch_normalization_19 (BatchNo (None, 928, 32)      128         cheb_layer_19[0][0]              \n",
      "__________________________________________________________________________________________________\n",
      "activation_19 (Activation)      (None, 928, 32)      0           batch_normalization_19[0][0]     \n",
      "__________________________________________________________________________________________________\n",
      "max_pooling1d_4 (MaxPooling1D)  (None, 464, 32)      0           activation_19[0][0]              \n",
      "__________________________________________________________________________________________________\n",
      "cheb_layer_20 (ChebLayer)       (None, 464, 32)      3104        max_pooling1d_4[0][0]            \n",
      "__________________________________________________________________________________________________\n",
      "batch_normalization_20 (BatchNo (None, 464, 32)      128         cheb_layer_20[0][0]              \n",
      "__________________________________________________________________________________________________\n",
      "activation_20 (Activation)      (None, 464, 32)      0           batch_normalization_20[0][0]     \n",
      "__________________________________________________________________________________________________\n",
      "cheb_layer_21 (ChebLayer)       (None, 464, 32)      3072        activation_20[0][0]              \n",
      "__________________________________________________________________________________________________\n",
      "batch_normalization_21 (BatchNo (None, 464, 32)      128         cheb_layer_21[0][0]              \n",
      "__________________________________________________________________________________________________\n",
      "activation_21 (Activation)      (None, 464, 32)      0           batch_normalization_21[0][0]     \n",
      "__________________________________________________________________________________________________\n",
      "cheb_layer_22 (ChebLayer)       (None, 464, 32)      3104        activation_21[0][0]              \n",
      "__________________________________________________________________________________________________\n",
      "batch_normalization_22 (BatchNo (None, 464, 32)      128         cheb_layer_22[0][0]              \n",
      "__________________________________________________________________________________________________\n",
      "activation_22 (Activation)      (None, 464, 32)      0           batch_normalization_22[0][0]     \n",
      "__________________________________________________________________________________________________\n",
      "cheb_layer_23 (ChebLayer)       (None, 464, 32)      3072        activation_22[0][0]              \n",
      "__________________________________________________________________________________________________\n",
      "batch_normalization_23 (BatchNo (None, 464, 32)      128         cheb_layer_23[0][0]              \n",
      "__________________________________________________________________________________________________\n",
      "activation_23 (Activation)      (None, 464, 32)      0           batch_normalization_23[0][0]     \n",
      "__________________________________________________________________________________________________\n",
      "max_pooling1d_5 (MaxPooling1D)  (None, 232, 32)      0           activation_23[0][0]              \n",
      "__________________________________________________________________________________________________\n",
      "cheb_layer_24 (ChebLayer)       (None, 232, 32)      3104        max_pooling1d_5[0][0]            \n",
      "__________________________________________________________________________________________________\n",
      "batch_normalization_24 (BatchNo (None, 232, 32)      128         cheb_layer_24[0][0]              \n",
      "__________________________________________________________________________________________________\n",
      "activation_24 (Activation)      (None, 232, 32)      0           batch_normalization_24[0][0]     \n",
      "__________________________________________________________________________________________________\n",
      "cheb_layer_25 (ChebLayer)       (None, 232, 32)      3072        activation_24[0][0]              \n",
      "__________________________________________________________________________________________________\n",
      "batch_normalization_25 (BatchNo (None, 232, 32)      128         cheb_layer_25[0][0]              \n",
      "__________________________________________________________________________________________________\n",
      "activation_25 (Activation)      (None, 232, 32)      0           batch_normalization_25[0][0]     \n",
      "__________________________________________________________________________________________________\n",
      "cheb_layer_26 (ChebLayer)       (None, 232, 32)      3104        activation_25[0][0]              \n",
      "__________________________________________________________________________________________________\n",
      "batch_normalization_26 (BatchNo (None, 232, 32)      128         cheb_layer_26[0][0]              \n",
      "__________________________________________________________________________________________________\n",
      "activation_26 (Activation)      (None, 232, 32)      0           batch_normalization_26[0][0]     \n",
      "__________________________________________________________________________________________________\n",
      "cheb_layer_27 (ChebLayer)       (None, 232, 32)      3072        activation_26[0][0]              \n",
      "__________________________________________________________________________________________________\n",
      "batch_normalization_27 (BatchNo (None, 232, 32)      128         cheb_layer_27[0][0]              \n",
      "__________________________________________________________________________________________________\n",
      "activation_27 (Activation)      (None, 232, 32)      0           batch_normalization_27[0][0]     \n",
      "__________________________________________________________________________________________________\n",
      "max_pooling1d_6 (MaxPooling1D)  (None, 116, 32)      0           activation_27[0][0]              \n",
      "__________________________________________________________________________________________________\n",
      "flatten (Flatten)               (None, 3712)         0           max_pooling1d_6[0][0]            \n",
      "__________________________________________________________________________________________________\n",
      "z_mean (Dense)                  (None, 256)          950528      flatten[0][0]                    \n",
      "__________________________________________________________________________________________________\n",
      "z_log_var (Dense)               (None, 256)          950528      flatten[0][0]                    \n",
      "__________________________________________________________________________________________________\n",
      "encoder_output (Lambda)         (None, 256)          0           z_mean[0][0]                     \n",
      "                                                                 z_log_var[0][0]                  \n",
      "==================================================================================================\n",
      "Total params: 1,988,128\n",
      "Trainable params: 1,986,336\n",
      "Non-trainable params: 1,792\n",
      "__________________________________________________________________________________________________\n"
     ]
    },
    {
     "name": "stdout",
     "output_type": "stream",
     "text": [
      "Model: \"decoder\"\n",
      "_________________________________________________________________\n",
      "Layer (type)                 Output Shape              Param #   \n",
      "=================================================================\n",
      "input_2 (InputLayer)         [(None, 256)]             0         \n",
      "_________________________________________________________________\n",
      "dense (Dense)                (None, 3712)              953984    \n",
      "_________________________________________________________________\n",
      "reshape (Reshape)            (None, 116, 32)           0         \n",
      "_________________________________________________________________\n",
      "cheb_layer_28 (ChebLayer)    (None, 116, 32)           3072      \n",
      "_________________________________________________________________\n",
      "batch_normalization_28 (Batc (None, 116, 32)           128       \n",
      "_________________________________________________________________\n",
      "activation_28 (Activation)   (None, 116, 32)           0         \n",
      "_________________________________________________________________\n",
      "cheb_layer_29 (ChebLayer)    (None, 116, 32)           3072      \n",
      "_________________________________________________________________\n",
      "batch_normalization_29 (Batc (None, 116, 32)           128       \n",
      "_________________________________________________________________\n",
      "activation_29 (Activation)   (None, 116, 32)           0         \n",
      "_________________________________________________________________\n",
      "cheb_layer_30 (ChebLayer)    (None, 116, 32)           3072      \n",
      "_________________________________________________________________\n",
      "batch_normalization_30 (Batc (None, 116, 32)           128       \n",
      "_________________________________________________________________\n",
      "activation_30 (Activation)   (None, 116, 32)           0         \n",
      "_________________________________________________________________\n",
      "cheb_layer_31 (ChebLayer)    (None, 116, 32)           3072      \n",
      "_________________________________________________________________\n",
      "batch_normalization_31 (Batc (None, 116, 32)           128       \n",
      "_________________________________________________________________\n",
      "activation_31 (Activation)   (None, 116, 32)           0         \n",
      "_________________________________________________________________\n",
      "up_sampling1d (UpSampling1D) (None, 232, 32)           0         \n",
      "_________________________________________________________________\n",
      "cheb_layer_32 (ChebLayer)    (None, 232, 32)           3072      \n",
      "_________________________________________________________________\n",
      "batch_normalization_32 (Batc (None, 232, 32)           128       \n",
      "_________________________________________________________________\n",
      "activation_32 (Activation)   (None, 232, 32)           0         \n",
      "_________________________________________________________________\n",
      "cheb_layer_33 (ChebLayer)    (None, 232, 32)           3072      \n",
      "_________________________________________________________________\n",
      "batch_normalization_33 (Batc (None, 232, 32)           128       \n",
      "_________________________________________________________________\n",
      "activation_33 (Activation)   (None, 232, 32)           0         \n",
      "_________________________________________________________________\n",
      "cheb_layer_34 (ChebLayer)    (None, 232, 32)           3072      \n",
      "_________________________________________________________________\n",
      "batch_normalization_34 (Batc (None, 232, 32)           128       \n",
      "_________________________________________________________________\n",
      "activation_34 (Activation)   (None, 232, 32)           0         \n",
      "_________________________________________________________________\n",
      "cheb_layer_35 (ChebLayer)    (None, 232, 32)           3072      \n",
      "_________________________________________________________________\n",
      "batch_normalization_35 (Batc (None, 232, 32)           128       \n",
      "_________________________________________________________________\n",
      "activation_35 (Activation)   (None, 232, 32)           0         \n",
      "_________________________________________________________________\n",
      "up_sampling1d_1 (UpSampling1 (None, 464, 32)           0         \n",
      "_________________________________________________________________\n",
      "cheb_layer_36 (ChebLayer)    (None, 464, 32)           3072      \n",
      "_________________________________________________________________\n",
      "batch_normalization_36 (Batc (None, 464, 32)           128       \n",
      "_________________________________________________________________\n",
      "activation_36 (Activation)   (None, 464, 32)           0         \n",
      "_________________________________________________________________\n",
      "cheb_layer_37 (ChebLayer)    (None, 464, 32)           3072      \n",
      "_________________________________________________________________\n",
      "batch_normalization_37 (Batc (None, 464, 32)           128       \n",
      "_________________________________________________________________\n",
      "activation_37 (Activation)   (None, 464, 32)           0         \n",
      "_________________________________________________________________\n",
      "cheb_layer_38 (ChebLayer)    (None, 464, 32)           3072      \n",
      "_________________________________________________________________\n",
      "batch_normalization_38 (Batc (None, 464, 32)           128       \n",
      "_________________________________________________________________\n",
      "activation_38 (Activation)   (None, 464, 32)           0         \n",
      "_________________________________________________________________\n",
      "cheb_layer_39 (ChebLayer)    (None, 464, 32)           3072      \n",
      "_________________________________________________________________\n",
      "batch_normalization_39 (Batc (None, 464, 32)           128       \n",
      "_________________________________________________________________\n",
      "activation_39 (Activation)   (None, 464, 32)           0         \n",
      "_________________________________________________________________\n",
      "up_sampling1d_2 (UpSampling1 (None, 928, 32)           0         \n",
      "_________________________________________________________________\n",
      "cheb_layer_40 (ChebLayer)    (None, 928, 32)           3072      \n",
      "_________________________________________________________________\n",
      "batch_normalization_40 (Batc (None, 928, 32)           128       \n",
      "_________________________________________________________________\n",
      "activation_40 (Activation)   (None, 928, 32)           0         \n",
      "_________________________________________________________________\n",
      "cheb_layer_41 (ChebLayer)    (None, 928, 32)           3072      \n",
      "_________________________________________________________________\n",
      "batch_normalization_41 (Batc (None, 928, 32)           128       \n",
      "_________________________________________________________________\n",
      "activation_41 (Activation)   (None, 928, 32)           0         \n",
      "_________________________________________________________________\n",
      "cheb_layer_42 (ChebLayer)    (None, 928, 32)           3072      \n",
      "_________________________________________________________________\n",
      "batch_normalization_42 (Batc (None, 928, 32)           128       \n",
      "_________________________________________________________________\n",
      "activation_42 (Activation)   (None, 928, 32)           0         \n",
      "_________________________________________________________________\n",
      "cheb_layer_43 (ChebLayer)    (None, 928, 32)           3072      \n",
      "_________________________________________________________________\n",
      "batch_normalization_43 (Batc (None, 928, 32)           128       \n",
      "_________________________________________________________________\n",
      "activation_43 (Activation)   (None, 928, 32)           0         \n",
      "_________________________________________________________________\n",
      "up_sampling1d_3 (UpSampling1 (None, 1856, 32)          0         \n",
      "_________________________________________________________________\n",
      "cheb_layer_44 (ChebLayer)    (None, 1856, 32)          3072      \n",
      "_________________________________________________________________\n",
      "batch_normalization_44 (Batc (None, 1856, 32)          128       \n",
      "_________________________________________________________________\n",
      "activation_44 (Activation)   (None, 1856, 32)          0         \n",
      "_________________________________________________________________\n",
      "cheb_layer_45 (ChebLayer)    (None, 1856, 32)          3072      \n",
      "_________________________________________________________________\n",
      "batch_normalization_45 (Batc (None, 1856, 32)          128       \n",
      "_________________________________________________________________\n",
      "activation_45 (Activation)   (None, 1856, 32)          0         \n",
      "_________________________________________________________________\n",
      "cheb_layer_46 (ChebLayer)    (None, 1856, 32)          3072      \n",
      "_________________________________________________________________\n",
      "batch_normalization_46 (Batc (None, 1856, 32)          128       \n",
      "_________________________________________________________________\n",
      "activation_46 (Activation)   (None, 1856, 32)          0         \n",
      "_________________________________________________________________\n",
      "cheb_layer_47 (ChebLayer)    (None, 1856, 32)          3072      \n",
      "_________________________________________________________________\n",
      "batch_normalization_47 (Batc (None, 1856, 32)          128       \n",
      "_________________________________________________________________\n",
      "activation_47 (Activation)   (None, 1856, 32)          0         \n",
      "_________________________________________________________________\n",
      "up_sampling1d_4 (UpSampling1 (None, 3712, 32)          0         \n",
      "_________________________________________________________________\n",
      "cheb_layer_48 (ChebLayer)    (None, 3712, 32)          3072      \n",
      "_________________________________________________________________\n",
      "batch_normalization_48 (Batc (None, 3712, 32)          128       \n",
      "_________________________________________________________________\n",
      "activation_48 (Activation)   (None, 3712, 32)          0         \n",
      "_________________________________________________________________\n",
      "cheb_layer_49 (ChebLayer)    (None, 3712, 32)          3072      \n",
      "_________________________________________________________________\n",
      "batch_normalization_49 (Batc (None, 3712, 32)          128       \n",
      "_________________________________________________________________\n",
      "activation_49 (Activation)   (None, 3712, 32)          0         \n",
      "_________________________________________________________________\n",
      "cheb_layer_50 (ChebLayer)    (None, 3712, 32)          3072      \n",
      "_________________________________________________________________\n",
      "batch_normalization_50 (Batc (None, 3712, 32)          128       \n",
      "_________________________________________________________________\n",
      "activation_50 (Activation)   (None, 3712, 32)          0         \n",
      "_________________________________________________________________\n",
      "cheb_layer_51 (ChebLayer)    (None, 3712, 32)          3072      \n",
      "_________________________________________________________________\n",
      "batch_normalization_51 (Batc (None, 3712, 32)          128       \n",
      "_________________________________________________________________\n",
      "activation_51 (Activation)   (None, 3712, 32)          0         \n",
      "_________________________________________________________________\n",
      "up_sampling1d_5 (UpSampling1 (None, 7424, 32)          0         \n",
      "_________________________________________________________________\n",
      "cheb_layer_52 (ChebLayer)    (None, 7424, 32)          3072      \n",
      "_________________________________________________________________\n",
      "batch_normalization_52 (Batc (None, 7424, 32)          128       \n",
      "_________________________________________________________________\n",
      "activation_52 (Activation)   (None, 7424, 32)          0         \n",
      "_________________________________________________________________\n",
      "cheb_layer_53 (ChebLayer)    (None, 7424, 32)          3072      \n",
      "_________________________________________________________________\n",
      "batch_normalization_53 (Batc (None, 7424, 32)          128       \n",
      "_________________________________________________________________\n",
      "activation_53 (Activation)   (None, 7424, 32)          0         \n",
      "_________________________________________________________________\n",
      "cheb_layer_54 (ChebLayer)    (None, 7424, 32)          3072      \n",
      "_________________________________________________________________\n",
      "batch_normalization_54 (Batc (None, 7424, 32)          128       \n",
      "_________________________________________________________________\n",
      "activation_54 (Activation)   (None, 7424, 32)          0         \n",
      "_________________________________________________________________\n",
      "cheb_layer_55 (ChebLayer)    (None, 7424, 32)          3072      \n",
      "_________________________________________________________________\n",
      "batch_normalization_55 (Batc (None, 7424, 32)          128       \n",
      "_________________________________________________________________\n",
      "activation_55 (Activation)   (None, 7424, 32)          0         \n",
      "_________________________________________________________________\n",
      "up_sampling1d_6 (UpSampling1 (None, 14848, 32)         0         \n",
      "_________________________________________________________________\n",
      "cheb_layer_56 (ChebLayer)    (None, 14848, 1)          96        \n",
      "=================================================================\n",
      "Total params: 1,043,680\n",
      "Trainable params: 1,041,888\n",
      "Non-trainable params: 1,792\n",
      "_________________________________________________________________\n"
     ]
    },
    {
     "name": "stdout",
     "output_type": "stream",
     "text": [
      "Model: \"vae\"\n",
      "_________________________________________________________________\n",
      "Layer (type)                 Output Shape              Param #   \n",
      "=================================================================\n",
      "input_1 (InputLayer)         [(None, 14848, 1)]        0         \n",
      "_________________________________________________________________\n",
      "encoder (Model)              [(None, 256), (None, 256) 1988128   \n",
      "_________________________________________________________________\n",
      "decoder (Model)              (None, 14848, 1)          1043680   \n",
      "=================================================================\n",
      "Total params: 3,031,808\n",
      "Trainable params: 3,028,224\n",
      "Non-trainable params: 3,584\n",
      "_________________________________________________________________\n"
     ]
    }
   ],
   "source": [
    "from tensorflow.keras.models import Model\n",
    "from tensorflow.keras.losses import mse\n",
    "from tensorflow.keras import layers\n",
    "Depth = 7\n",
    "latent_dim = 256\n",
    "# Input\n",
    "encoder_inputs = keras.Input(shape=(X_train.shape[1], X_train.shape[2]))\n",
    "print(encoder_inputs.shape)\n",
    "\n",
    "# Encoder ResNet Blocks\n",
    "for B in range(Depth):\n",
    "    for F in range(2):\n",
    "#         print(B)\n",
    "#         print(L[B].shape)\n",
    "        if B == 0 and F == 0:\n",
    "            x1 = utils.ChebLayer(L[B],3,n_filter,use_bias=True,kernel_regularizer=keras.regularizers.l2(5e-5))(encoder_inputs)\n",
    "        else:\n",
    "            x1 = utils.ChebLayer(L[B],3,n_filter,use_bias=True,kernel_regularizer=keras.regularizers.l2(5e-5))(x1)\n",
    "        x1 = keras.layers.BatchNormalization()(x1)\n",
    "        x1 = keras.layers.Activation('elu')(x1)\n",
    "        #x1 = keras.layers.MaxPooling1D(2)(x1)\n",
    "        x1 = utils.ChebLayer(L[B],3,n_filter,use_bias=False,kernel_regularizer=keras.regularizers.l2(5e-5))(x1)\n",
    "        x1 = keras.layers.BatchNormalization()(x1)\n",
    "        x1 = keras.layers.Activation('elu')(x1)\n",
    "    x1 = keras.layers.MaxPooling1D(2)(x1)\n",
    "#     print(x1.shape)\n",
    "\n",
    "x = layers.Flatten()(x1)\n",
    "# x = layers.Dense(128, activation=\"relu\")(x)\n",
    "\n",
    "z_mean = layers.Dense(latent_dim, name = 'z_mean')(x)\n",
    "z_log_var = layers.Dense(latent_dim, name = 'z_log_var')(x)\n",
    "\n",
    "# Defining a function for sampling\n",
    "def sampling(args):\n",
    "    z_mean, z_log_var = args\n",
    "    epsilon = K.random_normal(shape=K.shape(z_mean), mean=0., stddev=1.) \n",
    "    return z_mean + K.exp(z_log_var/2)*epsilon \n",
    "z = layers.Lambda(sampling, name='encoder_output')([z_mean, z_log_var])\n",
    "\n",
    "\n",
    "# z_mean = layers.Dense(latent_dim, name=\"z_mean\")(x)\n",
    "# z_log_var = layers.Dense(latent_dim, name=\"z_log_var\")(x)\n",
    "# z = Sampling()([z_mean, z_log_var])\n",
    "\n",
    "encoder = keras.Model(encoder_inputs, [z_mean, z_log_var, z], name=\"encoder\")\n",
    "encoder.summary()\n",
    "\n",
    "# Decoder ResNet Blocks\n",
    "latent_inputs = keras.Input(shape=(latent_dim,))\n",
    "x = layers.Dense(3712)(latent_inputs)\n",
    "x = layers.Reshape((116, 32))(x)\n",
    "# print(x.shape)\n",
    "for B in range(Depth):\n",
    "    for F in range(2):\n",
    "        #print(L[Depth - B].shape)\n",
    "        if B == 0 and F == 0:\n",
    "            x1 = utils.ChebLayer(L[Depth - B],3,n_filter,use_bias=False,kernel_regularizer=keras.regularizers.l2(5e-5))(x)\n",
    "        else:\n",
    "            x1 = utils.ChebLayer(L[Depth - B],3,n_filter,use_bias=False,kernel_regularizer=keras.regularizers.l2(5e-5))(x1)\n",
    "        x1 = keras.layers.BatchNormalization()(x1)\n",
    "        x1 = keras.layers.Activation('elu')(x1)\n",
    "        #x1 = keras.layers.UpSampling1D(size=2)(x1)\n",
    "        x1 = utils.ChebLayer(L[Depth - B],3,n_filter,use_bias=False,kernel_regularizer=keras.regularizers.l2(5e-5))(x1)\n",
    "        x1 = keras.layers.BatchNormalization()(x1)\n",
    "        x1 = keras.layers.Activation('elu')(x1)\n",
    "    x1 = keras.layers.UpSampling1D(size=2)(x1)\n",
    "decoder_outputs = utils.ChebLayer(L[0],3,X_train.shape[2],use_bias=False,kernel_regularizer=keras.regularizers.l2(5e-5))(x1)\n",
    "decoder = keras.Model(latent_inputs, decoder_outputs, name=\"decoder\")\n",
    "decoder.summary()\n",
    "\n",
    "# Instantiate VAE\n",
    "vae_outputs = decoder(encoder(encoder_inputs)[2])\n",
    "vae         = Model(encoder_inputs, vae_outputs, name='vae')\n",
    "vae.summary()\n",
    "\n",
    "\n",
    "# # opt_m = tf.keras.optimizers.Adam(lr=0.0001)\n",
    "# opt_m = tf.keras.optimizers.RMSprop(learning_rate=0.0005)\n",
    "# # vae.compile(opt_m, loss = total_loss, metrics = [r_loss, kl_loss])\n",
    "# vae.compile(opt_m, loss = 'mse')"
   ]
  },
  {
   "cell_type": "code",
   "execution_count": 19,
   "metadata": {
    "collapsed": true
   },
   "outputs": [],
   "source": [
    "LEARNING_RATE = 0.0002\n",
    "LOSS_FACTOR = 1000\n",
    "\n",
    "def r_loss(y_true, y_pred):\n",
    "    return K.mean(K.square(y_true - y_pred), axis = [1,2])\n",
    "\n",
    "def kl_loss(y_true, y_pred):\n",
    "    kl_loss =  -0.5 * K.sum(1 + z_log_var - K.square(z_mean) - K.exp(z_log_var), axis = 1)\n",
    "    return kl_loss\n",
    "\n",
    "def total_loss(y_true, y_pred):\n",
    "    return LOSS_FACTOR*r_loss(y_true, y_pred) + kl_loss(y_true, y_pred)\n",
    "  \n",
    "adam_optimizer = keras.optimizers.Adam(lr = LEARNING_RATE)\n",
    "\n",
    "vae.compile(optimizer=adam_optimizer, loss = total_loss, metrics = [r_loss, kl_loss])"
   ]
  },
  {
   "cell_type": "code",
   "execution_count": 27,
   "metadata": {
    "collapsed": true
   },
   "outputs": [],
   "source": [
    "from tensorflow.keras.callbacks import EarlyStopping, ModelCheckpoint, ReduceLROnPlateau\n",
    "es = EarlyStopping(monitor='val_loss', \n",
    "                   verbose=1, \n",
    "                   patience=8, \n",
    "                   min_delta=0.0001, \n",
    "                   mode='min')\n",
    "mc = ModelCheckpoint('.../models/best_cortex_try3.hdf5', \n",
    "                     monitor='val_loss', \n",
    "                     verbose=1, \n",
    "                     save_best_only=True, \n",
    "                     mode='min')\n",
    "rlr = ReduceLROnPlateau(monitor='val_loss',\n",
    "                        mode='min',\n",
    "                        factor=0.1,\n",
    "                        patience=8)"
   ]
  },
  {
   "cell_type": "code",
   "execution_count": 28,
   "metadata": {
    "colab": {
     "base_uri": "https://localhost:8080/",
     "height": 34
    },
    "colab_type": "code",
    "id": "vMyX9D3buIIM",
    "outputId": "7cedd5f0-1c86-40b1-e9d1-8b76aaa86928"
   },
   "outputs": [
    {
     "name": "stdout",
     "output_type": "stream",
     "text": [
      "Epoch 1/50\n",
      "9599/9600 [============================>.] - ETA: 0s - loss: 498.5373 - r_loss: 0.9566 - kl_loss: 19.8463Epoch 1/50\n",
      "2400/9600 [======>.......................] - ETA: 19:21 - loss: 594.9173 - r_loss: 1.1645 - kl_loss: 12.2807\n",
      "Epoch 00001: val_loss improved from inf to 594.91726, saving model to C:/Users/YuNan/Downloads/auto_encoder_try/models/best_cortex_try3.hdf5\n",
      "9600/9600 [==============================] - 5313s 553ms/step - loss: 498.5302 - r_loss: 0.9566 - kl_loss: 19.8449 - val_loss: 594.9173 - val_r_loss: 1.1645 - val_kl_loss: 12.2807\n",
      "Epoch 2/50\n",
      "9599/9600 [============================>.] - ETA: 0s - loss: 465.7392 - r_loss: 0.9215 - kl_loss: 4.5782Epoch 1/50\n",
      "2400/9600 [======>.......................] - ETA: 18:51 - loss: 655.1228 - r_loss: 1.2683 - kl_loss: 20.5155\n",
      "Epoch 00002: val_loss did not improve from 594.91726\n",
      "9600/9600 [==============================] - 5139s 535ms/step - loss: 465.7470 - r_loss: 0.9215 - kl_loss: 4.5786 - val_loss: 655.1228 - val_r_loss: 1.2683 - val_kl_loss: 20.5155\n",
      "Epoch 3/50\n",
      "9599/9600 [============================>.] - ETA: 0s - loss: 437.7258 - r_loss: 0.8524 - kl_loss: 11.0656Epoch 1/50\n",
      "2400/9600 [======>.......................] - ETA: 18:51 - loss: 475.8519 - r_loss: 0.9218 - kl_loss: 14.4772\n",
      "Epoch 00003: val_loss improved from 594.91726 to 475.85195, saving model to C:/Users/YuNan/Downloads/auto_encoder_try/models/best_cortex_try3.hdf5\n",
      "9600/9600 [==============================] - 5159s 537ms/step - loss: 437.7393 - r_loss: 0.8524 - kl_loss: 11.0655 - val_loss: 475.8519 - val_r_loss: 0.9218 - val_kl_loss: 14.4772\n",
      "Epoch 4/50\n",
      "9599/9600 [============================>.] - ETA: 0s - loss: 426.0339 - r_loss: 0.8265 - kl_loss: 12.2859Epoch 1/50\n",
      "2400/9600 [======>.......................] - ETA: 18:50 - loss: 441.9955 - r_loss: 0.8568 - kl_loss: 13.0776\n",
      "Epoch 00004: val_loss improved from 475.85195 to 441.99546, saving model to C:/Users/YuNan/Downloads/auto_encoder_try/models/best_cortex_try3.hdf5\n",
      "9600/9600 [==============================] - 5137s 535ms/step - loss: 426.0660 - r_loss: 0.8265 - kl_loss: 12.2861 - val_loss: 441.9955 - val_r_loss: 0.8568 - val_kl_loss: 13.0776\n",
      "Epoch 5/50\n",
      "9599/9600 [============================>.] - ETA: 0s - loss: 418.6943 - r_loss: 0.8106 - kl_loss: 12.8435Epoch 1/50\n",
      "2400/9600 [======>.......................] - ETA: 18:50 - loss: 442.1124 - r_loss: 0.8509 - kl_loss: 16.0665\n",
      "Epoch 00005: val_loss did not improve from 441.99546\n",
      "9600/9600 [==============================] - 5133s 535ms/step - loss: 418.6964 - r_loss: 0.8106 - kl_loss: 12.8434 - val_loss: 442.1124 - val_r_loss: 0.8509 - val_kl_loss: 16.0665\n",
      "Epoch 6/50\n",
      "9599/9600 [============================>.] - ETA: 0s - loss: 412.1547 - r_loss: 0.7964 - kl_loss: 13.2737Epoch 1/50\n",
      "2400/9600 [======>.......................] - ETA: 18:50 - loss: 445.2061 - r_loss: 0.8637 - kl_loss: 12.6815\n",
      "Epoch 00006: val_loss did not improve from 441.99546\n",
      "9600/9600 [==============================] - 5133s 535ms/step - loss: 412.1416 - r_loss: 0.7964 - kl_loss: 13.2737 - val_loss: 445.2061 - val_r_loss: 0.8637 - val_kl_loss: 12.6815\n",
      "Epoch 7/50\n",
      "9599/9600 [============================>.] - ETA: 0s - loss: 407.2262 - r_loss: 0.7860 - kl_loss: 13.5225Epoch 1/50\n",
      "2400/9600 [======>.......................] - ETA: 18:50 - loss: 438.1915 - r_loss: 0.8481 - kl_loss: 13.4046\n",
      "Epoch 00007: val_loss improved from 441.99546 to 438.19150, saving model to C:/Users/YuNan/Downloads/auto_encoder_try/models/best_cortex_try3.hdf5\n",
      "9600/9600 [==============================] - 5133s 535ms/step - loss: 407.2300 - r_loss: 0.7860 - kl_loss: 13.5226 - val_loss: 438.1915 - val_r_loss: 0.8481 - val_kl_loss: 13.4046\n",
      "Epoch 8/50\n",
      "9599/9600 [============================>.] - ETA: 0s - loss: 403.8161 - r_loss: 0.7784 - kl_loss: 13.8239Epoch 1/50\n",
      "2400/9600 [======>.......................] - ETA: 18:51 - loss: 438.9866 - r_loss: 0.8450 - kl_loss: 15.7087\n",
      "Epoch 00008: val_loss did not improve from 438.19150\n",
      "9600/9600 [==============================] - 5132s 535ms/step - loss: 403.8129 - r_loss: 0.7784 - kl_loss: 13.8238 - val_loss: 438.9866 - val_r_loss: 0.8450 - val_kl_loss: 15.7087\n",
      "Epoch 9/50\n",
      "9599/9600 [============================>.] - ETA: 0s - loss: 401.7435 - r_loss: 0.7737 - kl_loss: 14.0681Epoch 1/50\n",
      "2400/9600 [======>.......................] - ETA: 18:51 - loss: 434.2476 - r_loss: 0.8321 - kl_loss: 17.3662\n",
      "Epoch 00009: val_loss improved from 438.19150 to 434.24760, saving model to C:/Users/YuNan/Downloads/auto_encoder_try/models/best_cortex_try3.hdf5\n",
      "9600/9600 [==============================] - 5137s 535ms/step - loss: 401.7441 - r_loss: 0.7737 - kl_loss: 14.0682 - val_loss: 434.2476 - val_r_loss: 0.8321 - val_kl_loss: 17.3662\n",
      "Epoch 10/50\n",
      "9599/9600 [============================>.] - ETA: 0s - loss: 400.0410 - r_loss: 0.7695 - kl_loss: 14.3986Epoch 1/50\n",
      "2400/9600 [======>.......................] - ETA: 18:52 - loss: 434.8651 - r_loss: 0.8324 - kl_loss: 17.7866\n",
      "Epoch 00010: val_loss did not improve from 434.24760\n",
      "9600/9600 [==============================] - 5131s 534ms/step - loss: 400.0402 - r_loss: 0.7695 - kl_loss: 14.3986 - val_loss: 434.8651 - val_r_loss: 0.8324 - val_kl_loss: 17.7866\n",
      "Epoch 11/50\n",
      "9599/9600 [============================>.] - ETA: 0s - loss: 398.3500 - r_loss: 0.7654 - kl_loss: 14.7447Epoch 1/50\n",
      "2400/9600 [======>.......................] - ETA: 18:52 - loss: 429.2613 - r_loss: 0.8273 - kl_loss: 14.6943\n",
      "Epoch 00011: val_loss improved from 434.24760 to 429.26132, saving model to C:/Users/YuNan/Downloads/auto_encoder_try/models/best_cortex_try3.hdf5\n",
      "9600/9600 [==============================] - 5136s 535ms/step - loss: 398.3768 - r_loss: 0.7654 - kl_loss: 14.7447 - val_loss: 429.2613 - val_r_loss: 0.8273 - val_kl_loss: 14.6943\n",
      "Epoch 12/50\n",
      "9599/9600 [============================>.] - ETA: 0s - loss: 396.8891 - r_loss: 0.7618 - kl_loss: 15.0438Epoch 1/50\n",
      "2400/9600 [======>.......................] - ETA: 19:00 - loss: 449.1734 - r_loss: 0.8724 - kl_loss: 11.9985\n",
      "Epoch 00012: val_loss did not improve from 429.26132\n",
      "9600/9600 [==============================] - 5150s 536ms/step - loss: 396.9150 - r_loss: 0.7618 - kl_loss: 15.0438 - val_loss: 449.1734 - val_r_loss: 0.8724 - val_kl_loss: 11.9985\n",
      "Epoch 13/50\n",
      "9599/9600 [============================>.] - ETA: 0s - loss: 395.8468 - r_loss: 0.7592 - kl_loss: 15.2656Epoch 1/50\n",
      "2400/9600 [======>.......................] - ETA: 18:59 - loss: 431.8901 - r_loss: 0.8290 - kl_loss: 16.3940\n",
      "Epoch 00013: val_loss did not improve from 429.26132\n",
      "9600/9600 [==============================] - 5155s 537ms/step - loss: 395.8441 - r_loss: 0.7592 - kl_loss: 15.2657 - val_loss: 431.8901 - val_r_loss: 0.8290 - val_kl_loss: 16.3940\n",
      "Epoch 14/50\n",
      "9599/9600 [============================>.] - ETA: 0s - loss: 394.8916 - r_loss: 0.7569 - kl_loss: 15.4137Epoch 1/50\n",
      "2400/9600 [======>.......................] - ETA: 19:00 - loss: 429.6117 - r_loss: 0.8275 - kl_loss: 14.8234\n",
      "Epoch 00014: val_loss did not improve from 429.26132\n",
      "9600/9600 [==============================] - 5152s 537ms/step - loss: 394.8810 - r_loss: 0.7569 - kl_loss: 15.4137 - val_loss: 429.6117 - val_r_loss: 0.8275 - val_kl_loss: 14.8234\n",
      "Epoch 15/50\n",
      "9599/9600 [============================>.] - ETA: 0s - loss: 394.0180 - r_loss: 0.7548 - kl_loss: 15.5725Epoch 1/50\n",
      "2400/9600 [======>.......................] - ETA: 18:48 - loss: 428.3152 - r_loss: 0.8211 - kl_loss: 16.6907\n",
      "Epoch 00015: val_loss improved from 429.26132 to 428.31523, saving model to C:/Users/YuNan/Downloads/auto_encoder_try/models/best_cortex_try3.hdf5\n",
      "9600/9600 [==============================] - 5165s 538ms/step - loss: 394.0236 - r_loss: 0.7548 - kl_loss: 15.5726 - val_loss: 428.3152 - val_r_loss: 0.8211 - val_kl_loss: 16.6907\n",
      "Epoch 16/50\n",
      "9599/9600 [============================>.] - ETA: 0s - loss: 393.2196 - r_loss: 0.7530 - kl_loss: 15.6043Epoch 1/50\n",
      "2400/9600 [======>.......................] - ETA: 19:14 - loss: 427.2076 - r_loss: 0.8207 - kl_loss: 15.7521\n",
      "Epoch 00016: val_loss improved from 428.31523 to 427.20758, saving model to C:/Users/YuNan/Downloads/auto_encoder_try/models/best_cortex_try3.hdf5\n",
      "9600/9600 [==============================] - 5195s 541ms/step - loss: 393.2124 - r_loss: 0.7530 - kl_loss: 15.6042 - val_loss: 427.2076 - val_r_loss: 0.8207 - val_kl_loss: 15.7521\n"
     ]
    },
    {
     "name": "stdout",
     "output_type": "stream",
     "text": [
      "Epoch 17/50\n",
      " 725/9600 [=>............................] - ETA: 1:15:03 - loss: 393.9477 - r_loss: 0.7540 - kl_loss: 15.8149"
     ]
    },
    {
     "ename": "InternalError",
     "evalue": "GPU sync failed",
     "output_type": "error",
     "traceback": [
      "\u001b[1;31m---------------------------------------------------------------------------\u001b[0m",
      "\u001b[1;31mInternalError\u001b[0m                             Traceback (most recent call last)",
      "\u001b[1;32m<ipython-input-28-cbfd671733ed>\u001b[0m in \u001b[0;36m<module>\u001b[1;34m()\u001b[0m\n\u001b[1;32m----> 1\u001b[1;33m \u001b[0mhistory\u001b[0m \u001b[1;33m=\u001b[0m \u001b[0mvae\u001b[0m\u001b[1;33m.\u001b[0m\u001b[0mfit\u001b[0m\u001b[1;33m(\u001b[0m\u001b[0mtrain_generator\u001b[0m\u001b[1;33m,\u001b[0m \u001b[0mvalidation_data\u001b[0m\u001b[1;33m=\u001b[0m\u001b[0mtest_generator\u001b[0m\u001b[1;33m,\u001b[0m \u001b[0mepochs\u001b[0m \u001b[1;33m=\u001b[0m \u001b[0mepochs\u001b[0m\u001b[1;33m,\u001b[0m \u001b[0muse_multiprocessing\u001b[0m\u001b[1;33m=\u001b[0m\u001b[1;32mFalse\u001b[0m\u001b[1;33m,\u001b[0m \u001b[0mcallbacks\u001b[0m \u001b[1;33m=\u001b[0m \u001b[1;33m[\u001b[0m\u001b[0mes\u001b[0m\u001b[1;33m,\u001b[0m \u001b[0mmc\u001b[0m\u001b[1;33m,\u001b[0m\u001b[0mrlr\u001b[0m\u001b[1;33m]\u001b[0m\u001b[1;33m)\u001b[0m\u001b[1;33m\u001b[0m\u001b[1;33m\u001b[0m\u001b[0m\n\u001b[0m",
      "\u001b[1;32mC:\\Users\\YuNan\\anaconda3\\envs\\tf-gpu\\lib\\site-packages\\tensorflow_core\\python\\keras\\engine\\training.py\u001b[0m in \u001b[0;36mfit\u001b[1;34m(self, x, y, batch_size, epochs, verbose, callbacks, validation_split, validation_data, shuffle, class_weight, sample_weight, initial_epoch, steps_per_epoch, validation_steps, validation_freq, max_queue_size, workers, use_multiprocessing, **kwargs)\u001b[0m\n\u001b[0;32m    817\u001b[0m         \u001b[0mmax_queue_size\u001b[0m\u001b[1;33m=\u001b[0m\u001b[0mmax_queue_size\u001b[0m\u001b[1;33m,\u001b[0m\u001b[1;33m\u001b[0m\u001b[1;33m\u001b[0m\u001b[0m\n\u001b[0;32m    818\u001b[0m         \u001b[0mworkers\u001b[0m\u001b[1;33m=\u001b[0m\u001b[0mworkers\u001b[0m\u001b[1;33m,\u001b[0m\u001b[1;33m\u001b[0m\u001b[1;33m\u001b[0m\u001b[0m\n\u001b[1;32m--> 819\u001b[1;33m         use_multiprocessing=use_multiprocessing)\n\u001b[0m\u001b[0;32m    820\u001b[0m \u001b[1;33m\u001b[0m\u001b[0m\n\u001b[0;32m    821\u001b[0m   def evaluate(self,\n",
      "\u001b[1;32mC:\\Users\\YuNan\\anaconda3\\envs\\tf-gpu\\lib\\site-packages\\tensorflow_core\\python\\keras\\engine\\training_generator.py\u001b[0m in \u001b[0;36mfit\u001b[1;34m(self, model, x, y, batch_size, epochs, verbose, callbacks, validation_split, validation_data, shuffle, class_weight, sample_weight, initial_epoch, steps_per_epoch, validation_steps, validation_freq, max_queue_size, workers, use_multiprocessing)\u001b[0m\n\u001b[0;32m    602\u001b[0m         \u001b[0mshuffle\u001b[0m\u001b[1;33m=\u001b[0m\u001b[0mshuffle\u001b[0m\u001b[1;33m,\u001b[0m\u001b[1;33m\u001b[0m\u001b[1;33m\u001b[0m\u001b[0m\n\u001b[0;32m    603\u001b[0m         \u001b[0minitial_epoch\u001b[0m\u001b[1;33m=\u001b[0m\u001b[0minitial_epoch\u001b[0m\u001b[1;33m,\u001b[0m\u001b[1;33m\u001b[0m\u001b[1;33m\u001b[0m\u001b[0m\n\u001b[1;32m--> 604\u001b[1;33m         steps_name='steps_per_epoch')\n\u001b[0m\u001b[0;32m    605\u001b[0m \u001b[1;33m\u001b[0m\u001b[0m\n\u001b[0;32m    606\u001b[0m   def evaluate(self,\n",
      "\u001b[1;32mC:\\Users\\YuNan\\anaconda3\\envs\\tf-gpu\\lib\\site-packages\\tensorflow_core\\python\\keras\\engine\\training_generator.py\u001b[0m in \u001b[0;36mmodel_iteration\u001b[1;34m(model, data, steps_per_epoch, epochs, verbose, callbacks, validation_data, validation_steps, validation_freq, class_weight, max_queue_size, workers, use_multiprocessing, shuffle, initial_epoch, mode, batch_size, steps_name, **kwargs)\u001b[0m\n\u001b[0;32m    263\u001b[0m \u001b[1;33m\u001b[0m\u001b[0m\n\u001b[0;32m    264\u001b[0m       \u001b[0mis_deferred\u001b[0m \u001b[1;33m=\u001b[0m \u001b[1;32mnot\u001b[0m \u001b[0mmodel\u001b[0m\u001b[1;33m.\u001b[0m\u001b[0m_is_compiled\u001b[0m\u001b[1;33m\u001b[0m\u001b[1;33m\u001b[0m\u001b[0m\n\u001b[1;32m--> 265\u001b[1;33m       \u001b[0mbatch_outs\u001b[0m \u001b[1;33m=\u001b[0m \u001b[0mbatch_function\u001b[0m\u001b[1;33m(\u001b[0m\u001b[1;33m*\u001b[0m\u001b[0mbatch_data\u001b[0m\u001b[1;33m)\u001b[0m\u001b[1;33m\u001b[0m\u001b[1;33m\u001b[0m\u001b[0m\n\u001b[0m\u001b[0;32m    266\u001b[0m       \u001b[1;32mif\u001b[0m \u001b[1;32mnot\u001b[0m \u001b[0misinstance\u001b[0m\u001b[1;33m(\u001b[0m\u001b[0mbatch_outs\u001b[0m\u001b[1;33m,\u001b[0m \u001b[0mlist\u001b[0m\u001b[1;33m)\u001b[0m\u001b[1;33m:\u001b[0m\u001b[1;33m\u001b[0m\u001b[1;33m\u001b[0m\u001b[0m\n\u001b[0;32m    267\u001b[0m         \u001b[0mbatch_outs\u001b[0m \u001b[1;33m=\u001b[0m \u001b[1;33m[\u001b[0m\u001b[0mbatch_outs\u001b[0m\u001b[1;33m]\u001b[0m\u001b[1;33m\u001b[0m\u001b[1;33m\u001b[0m\u001b[0m\n",
      "\u001b[1;32mC:\\Users\\YuNan\\anaconda3\\envs\\tf-gpu\\lib\\site-packages\\tensorflow_core\\python\\keras\\engine\\training.py\u001b[0m in \u001b[0;36mtrain_on_batch\u001b[1;34m(self, x, y, sample_weight, class_weight, reset_metrics)\u001b[0m\n\u001b[0;32m   1121\u001b[0m       \u001b[0mself\u001b[0m\u001b[1;33m.\u001b[0m\u001b[0m_update_sample_weight_modes\u001b[0m\u001b[1;33m(\u001b[0m\u001b[0msample_weights\u001b[0m\u001b[1;33m=\u001b[0m\u001b[0msample_weights\u001b[0m\u001b[1;33m)\u001b[0m\u001b[1;33m\u001b[0m\u001b[1;33m\u001b[0m\u001b[0m\n\u001b[0;32m   1122\u001b[0m       \u001b[0mself\u001b[0m\u001b[1;33m.\u001b[0m\u001b[0m_make_train_function\u001b[0m\u001b[1;33m(\u001b[0m\u001b[1;33m)\u001b[0m\u001b[1;33m\u001b[0m\u001b[1;33m\u001b[0m\u001b[0m\n\u001b[1;32m-> 1123\u001b[1;33m       \u001b[0moutputs\u001b[0m \u001b[1;33m=\u001b[0m \u001b[0mself\u001b[0m\u001b[1;33m.\u001b[0m\u001b[0mtrain_function\u001b[0m\u001b[1;33m(\u001b[0m\u001b[0mins\u001b[0m\u001b[1;33m)\u001b[0m  \u001b[1;31m# pylint: disable=not-callable\u001b[0m\u001b[1;33m\u001b[0m\u001b[1;33m\u001b[0m\u001b[0m\n\u001b[0m\u001b[0;32m   1124\u001b[0m \u001b[1;33m\u001b[0m\u001b[0m\n\u001b[0;32m   1125\u001b[0m     \u001b[1;32mif\u001b[0m \u001b[0mreset_metrics\u001b[0m\u001b[1;33m:\u001b[0m\u001b[1;33m\u001b[0m\u001b[1;33m\u001b[0m\u001b[0m\n",
      "\u001b[1;32mC:\\Users\\YuNan\\anaconda3\\envs\\tf-gpu\\lib\\site-packages\\tensorflow_core\\python\\keras\\backend.py\u001b[0m in \u001b[0;36m__call__\u001b[1;34m(self, inputs)\u001b[0m\n\u001b[0;32m   3565\u001b[0m \u001b[1;33m\u001b[0m\u001b[0m\n\u001b[0;32m   3566\u001b[0m     fetched = self._callable_fn(*array_vals,\n\u001b[1;32m-> 3567\u001b[1;33m                                 run_metadata=self.run_metadata)\n\u001b[0m\u001b[0;32m   3568\u001b[0m     \u001b[0mself\u001b[0m\u001b[1;33m.\u001b[0m\u001b[0m_call_fetch_callbacks\u001b[0m\u001b[1;33m(\u001b[0m\u001b[0mfetched\u001b[0m\u001b[1;33m[\u001b[0m\u001b[1;33m-\u001b[0m\u001b[0mlen\u001b[0m\u001b[1;33m(\u001b[0m\u001b[0mself\u001b[0m\u001b[1;33m.\u001b[0m\u001b[0m_fetches\u001b[0m\u001b[1;33m)\u001b[0m\u001b[1;33m:\u001b[0m\u001b[1;33m]\u001b[0m\u001b[1;33m)\u001b[0m\u001b[1;33m\u001b[0m\u001b[1;33m\u001b[0m\u001b[0m\n\u001b[0;32m   3569\u001b[0m     output_structure = nest.pack_sequence_as(\n",
      "\u001b[1;32mC:\\Users\\YuNan\\anaconda3\\envs\\tf-gpu\\lib\\site-packages\\tensorflow_core\\python\\client\\session.py\u001b[0m in \u001b[0;36m__call__\u001b[1;34m(self, *args, **kwargs)\u001b[0m\n\u001b[0;32m   1472\u001b[0m         ret = tf_session.TF_SessionRunCallable(self._session._session,\n\u001b[0;32m   1473\u001b[0m                                                \u001b[0mself\u001b[0m\u001b[1;33m.\u001b[0m\u001b[0m_handle\u001b[0m\u001b[1;33m,\u001b[0m \u001b[0margs\u001b[0m\u001b[1;33m,\u001b[0m\u001b[1;33m\u001b[0m\u001b[1;33m\u001b[0m\u001b[0m\n\u001b[1;32m-> 1474\u001b[1;33m                                                run_metadata_ptr)\n\u001b[0m\u001b[0;32m   1475\u001b[0m         \u001b[1;32mif\u001b[0m \u001b[0mrun_metadata\u001b[0m\u001b[1;33m:\u001b[0m\u001b[1;33m\u001b[0m\u001b[1;33m\u001b[0m\u001b[0m\n\u001b[0;32m   1476\u001b[0m           \u001b[0mproto_data\u001b[0m \u001b[1;33m=\u001b[0m \u001b[0mtf_session\u001b[0m\u001b[1;33m.\u001b[0m\u001b[0mTF_GetBuffer\u001b[0m\u001b[1;33m(\u001b[0m\u001b[0mrun_metadata_ptr\u001b[0m\u001b[1;33m)\u001b[0m\u001b[1;33m\u001b[0m\u001b[1;33m\u001b[0m\u001b[0m\n",
      "\u001b[1;31mInternalError\u001b[0m: GPU sync failed"
     ]
    }
   ],
   "source": [
    "history = vae.fit(train_generator, validation_data=test_generator, epochs = epochs, use_multiprocessing=False, callbacks = [es, mc,rlr])"
   ]
  },
  {
   "cell_type": "code",
   "execution_count": 1,
   "metadata": {},
   "outputs": [],
   "source": [
    "# Plot history: Categorical crossentropy & Accuracy\n",
    "import matplotlib.pyplot as plt\n",
    "plt.plot(history.history['loss'], label='Categorical crossentropy (training data)')\n",
    "plt.plot(history.history['val_loss'], label='Categorical crossentropy (validation data)')\n",
    "# plt.plot(history.history['acc'], label='Accuracy (training data)')\n",
    "# plt.plot(history.history['val_acc'], label='Accuracy (validation data)')\n",
    "plt.title('Model performance for 3D MNIST Keras Conv3D example')\n",
    "plt.ylabel('Loss value')\n",
    "plt.xlabel('No. epoch')\n",
    "plt.legend(loc=\"upper left\")\n",
    "\n",
    "plt.show()"
   ]
  },
  {
   "cell_type": "code",
   "execution_count": null,
   "metadata": {
    "collapsed": true
   },
   "outputs": [],
   "source": []
  }
 ],
 "metadata": {
  "accelerator": "GPU",
  "colab": {
   "authorship_tag": "ABX9TyMdSPYkDYl1nXjPSEKUrOVK",
   "collapsed_sections": [],
   "machine_shape": "hm",
   "name": "GraphAutoEncoder.ipynb",
   "provenance": []
  },
  "kernelspec": {
   "display_name": "Python 3",
   "language": "python",
   "name": "python3"
  },
  "language_info": {
   "codemirror_mode": {
    "name": "ipython",
    "version": 3
   },
   "file_extension": ".py",
   "mimetype": "text/x-python",
   "name": "python",
   "nbconvert_exporter": "python",
   "pygments_lexer": "ipython3",
   "version": "3.5.3"
  }
 },
 "nbformat": 4,
 "nbformat_minor": 1
}
