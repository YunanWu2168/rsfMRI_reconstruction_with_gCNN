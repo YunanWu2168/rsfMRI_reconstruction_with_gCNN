{
 "cells": [
  {
   "cell_type": "code",
   "execution_count": 1,
   "metadata": {
    "colab": {
     "base_uri": "https://localhost:8080/",
     "height": 34
    },
    "colab_type": "code",
    "collapsed": true,
    "executionInfo": {
     "elapsed": 1573,
     "status": "ok",
     "timestamp": 1587783935152,
     "user": {
      "displayName": "Pierre Besson",
      "photoUrl": "https://lh3.googleusercontent.com/a-/AOh14GjsjJTjx005_2UQYExcZ9CVu8Atj0_UN1VGKPsHgg=s64",
      "userId": "17266492722066909081"
     },
     "user_tz": 300
    },
    "id": "S7ZbxgsvjCiw",
    "outputId": "f24e8d03-1713-4750-ca38-b78c82d5d258"
   },
   "outputs": [],
   "source": [
    "# %tensorflow_version 2.x\n",
    "# from google.colab import drive\n",
    "# drive.mount('/content/drive', force_remount=True)\n",
    "# GD = \"/content/drive/My Drive/DeepLearning/\"\n",
    "# import sys\n",
    "# sys.path.append(GD + 'code/')"
   ]
  },
  {
   "cell_type": "code",
   "execution_count": 2,
   "metadata": {
    "collapsed": true
   },
   "outputs": [],
   "source": [
    "import numpy as np\n",
    "import scipy as sp\n",
    "\n",
    "import os\n",
    "\n",
    "import warnings\n",
    "warnings.filterwarnings('ignore')\n",
    "from tensorflow.python.util import deprecation\n",
    "deprecation._PRINT_DEPRECATION_WARNINGS = False\n",
    "\n",
    "import tensorflow.keras as keras\n",
    "import tensorflow as tf\n",
    "\n",
    "import pickle\n",
    "import random\n",
    "\n",
    "from sklearn.model_selection import KFold\n",
    "from scipy.sparse import block_diag as sparse_block_diag\n",
    "from sklearn.preprocessing import LabelEncoder\n",
    "\n",
    "from datetime import datetime\n",
    "\n",
    "from utils.labels_preprocessing import load_labels\n",
    "from utils.load_synced_inputs import load_inputs, load_fmri\n",
    "from utils.load_graphs import load_graph\n",
    "from cnn_graph.resnetgraph import cgcnn\n",
    "from cnn_graph import graph\n",
    "import tensorflow.keras.backend as K\n",
    "from new_utils import utils"
   ]
  },
  {
   "cell_type": "code",
   "execution_count": 3,
   "metadata": {},
   "outputs": [
    {
     "data": {
      "text/plain": [
       "True"
      ]
     },
     "execution_count": 3,
     "metadata": {},
     "output_type": "execute_result"
    }
   ],
   "source": [
    "tf.test.is_gpu_available()"
   ]
  },
  {
   "cell_type": "code",
   "execution_count": 4,
   "metadata": {
    "collapsed": true
   },
   "outputs": [],
   "source": [
    "# fmri preprocess\n",
    "\n",
    "fmri_subcortical_dir = '../Subcortical_fmri'\n",
    "# fmri_subcortical_dir = 'C:/Users/YuNan/Downloads/auto_encoder_try/data/Subcortical_fmri'\n",
    "assert len(os.listdir(fmri_subcortical_dir)) == len(set(os.listdir(fmri_subcortical_dir)))\n"
   ]
  },
  {
   "cell_type": "code",
   "execution_count": 5,
   "metadata": {},
   "outputs": [
    {
     "name": "stdout",
     "output_type": "stream",
     "text": [
      "[<14848x14848 sparse matrix of type '<class 'numpy.float32'>'\n",
      "\twith 103768 stored elements in Compressed Sparse Row format>, <7424x7424 sparse matrix of type '<class 'numpy.float32'>'\n",
      "\twith 51800 stored elements in Compressed Sparse Row format>, <3712x3712 sparse matrix of type '<class 'numpy.float32'>'\n",
      "\twith 25816 stored elements in Compressed Sparse Row format>, <1856x1856 sparse matrix of type '<class 'numpy.float32'>'\n",
      "\twith 12824 stored elements in Compressed Sparse Row format>, <928x928 sparse matrix of type '<class 'numpy.float32'>'\n",
      "\twith 6328 stored elements in Compressed Sparse Row format>, <464x464 sparse matrix of type '<class 'numpy.float32'>'\n",
      "\twith 3080 stored elements in Compressed Sparse Row format>, <232x232 sparse matrix of type '<class 'numpy.float32'>'\n",
      "\twith 1456 stored elements in Compressed Sparse Row format>, <116x116 sparse matrix of type '<class 'numpy.float32'>'\n",
      "\twith 648 stored elements in Compressed Sparse Row format>]\n"
     ]
    }
   ],
   "source": [
    "home = f\"{os.getcwd()}/..\"\n",
    "\n",
    "graphs_dir = \"../Graphs/\"            # directory containing necessary graphs\n",
    "# print(graphs_dir)\n",
    "# cortical_dir = f\"{home}/Cortical\"         # cortical node data for each subject\n",
    "# subcortical_dir = f\"{home}/SubCortical\"   # subcortical node data for each subject\n",
    "# cortical_dir = 'C:/Users/YuNan/Downloads/auto_encoder_try/data/Cortex'\n",
    "subcortical_dir = '../Subcortical'\n",
    "\n",
    "# for scan in os.listdir(cortical_dir):\n",
    "#     print (f\"{scan[:-11]}_Subcortical\")\n",
    "#     assert os.path.isfile(f\"{subcortical_dir}/{scan[:-11]}_Subcortical.mat\")\n",
    "\n",
    "assert len(os.listdir(subcortical_dir)) == len(set(os.listdir(subcortical_dir)))\n",
    "\n",
    "# L = {'cortical': load_graph(graphs_folder=graphs_dir, prefix='M_w')}\n",
    "# # print(L)\n",
    "# L['cortical'] = [graph.laplacian(A) for A in L['cortical']]\n",
    "# # print(L['cortical'])\n",
    "\n",
    "L = {'subcortical' : load_graph(graphs_folder=graphs_dir, prefix='M_sc_w')}\n",
    "L['subcortical'] = [graph.laplacian(A) for A in L['subcortical']]\n",
    "print(L['subcortical'])\n",
    "\n",
    "# # Block Diagonalize the Cortical & Subcortical Laplacians at Each Level of Coarsening\n",
    "new_L = []\n",
    "for A in zip(L[f\"subcortical\"]):\n",
    "    new_L.append( sparse_block_diag((A)) )\n",
    "L = new_L\n",
    "# print(L)\n",
    "del new_L"
   ]
  },
  {
   "cell_type": "code",
   "execution_count": 6,
   "metadata": {},
   "outputs": [
    {
     "data": {
      "text/plain": [
       "[<14848x14848 sparse matrix of type '<class 'numpy.float32'>'\n",
       " \twith 103768 stored elements in Compressed Sparse Row format>,\n",
       " <7424x7424 sparse matrix of type '<class 'numpy.float32'>'\n",
       " \twith 51800 stored elements in Compressed Sparse Row format>,\n",
       " <3712x3712 sparse matrix of type '<class 'numpy.float32'>'\n",
       " \twith 25816 stored elements in Compressed Sparse Row format>,\n",
       " <1856x1856 sparse matrix of type '<class 'numpy.float32'>'\n",
       " \twith 12824 stored elements in Compressed Sparse Row format>,\n",
       " <928x928 sparse matrix of type '<class 'numpy.float32'>'\n",
       " \twith 6328 stored elements in Compressed Sparse Row format>,\n",
       " <464x464 sparse matrix of type '<class 'numpy.float32'>'\n",
       " \twith 3080 stored elements in Compressed Sparse Row format>,\n",
       " <232x232 sparse matrix of type '<class 'numpy.float32'>'\n",
       " \twith 1456 stored elements in Compressed Sparse Row format>,\n",
       " <116x116 sparse matrix of type '<class 'numpy.float32'>'\n",
       " \twith 648 stored elements in Compressed Sparse Row format>]"
      ]
     },
     "execution_count": 6,
     "metadata": {},
     "output_type": "execute_result"
    }
   ],
   "source": [
    "L"
   ]
  },
  {
   "cell_type": "code",
   "execution_count": 7,
   "metadata": {},
   "outputs": [
    {
     "data": {
      "text/html": [
       "<div>\n",
       "<style scoped>\n",
       "    .dataframe tbody tr th:only-of-type {\n",
       "        vertical-align: middle;\n",
       "    }\n",
       "\n",
       "    .dataframe tbody tr th {\n",
       "        vertical-align: top;\n",
       "    }\n",
       "\n",
       "    .dataframe thead th {\n",
       "        text-align: right;\n",
       "    }\n",
       "</style>\n",
       "<table border=\"1\" class=\"dataframe\">\n",
       "  <thead>\n",
       "    <tr style=\"text-align: right;\">\n",
       "      <th></th>\n",
       "      <th>Subject</th>\n",
       "    </tr>\n",
       "  </thead>\n",
       "  <tbody>\n",
       "    <tr>\n",
       "      <th>0</th>\n",
       "      <td>1000102_20252_2_0</td>\n",
       "    </tr>\n",
       "    <tr>\n",
       "      <th>1</th>\n",
       "      <td>1000710_20252_2_0</td>\n",
       "    </tr>\n",
       "    <tr>\n",
       "      <th>2</th>\n",
       "      <td>1000742_20252_2_0</td>\n",
       "    </tr>\n",
       "    <tr>\n",
       "      <th>3</th>\n",
       "      <td>1001275_20252_2_0</td>\n",
       "    </tr>\n",
       "    <tr>\n",
       "      <th>4</th>\n",
       "      <td>1001693_20252_2_0</td>\n",
       "    </tr>\n",
       "    <tr>\n",
       "      <th>...</th>\n",
       "      <td>...</td>\n",
       "    </tr>\n",
       "    <tr>\n",
       "      <th>190</th>\n",
       "      <td>1030712_20252_2_0</td>\n",
       "    </tr>\n",
       "    <tr>\n",
       "      <th>191</th>\n",
       "      <td>1030841_20252_2_0</td>\n",
       "    </tr>\n",
       "    <tr>\n",
       "      <th>192</th>\n",
       "      <td>1030960_20252_2_0</td>\n",
       "    </tr>\n",
       "    <tr>\n",
       "      <th>193</th>\n",
       "      <td>1031057_20252_2_0</td>\n",
       "    </tr>\n",
       "    <tr>\n",
       "      <th>194</th>\n",
       "      <td>1031135_20252_2_0</td>\n",
       "    </tr>\n",
       "  </tbody>\n",
       "</table>\n",
       "<p>195 rows × 1 columns</p>\n",
       "</div>"
      ],
      "text/plain": [
       "               Subject\n",
       "0    1000102_20252_2_0\n",
       "1    1000710_20252_2_0\n",
       "2    1000742_20252_2_0\n",
       "3    1001275_20252_2_0\n",
       "4    1001693_20252_2_0\n",
       "..                 ...\n",
       "190  1030712_20252_2_0\n",
       "191  1030841_20252_2_0\n",
       "192  1030960_20252_2_0\n",
       "193  1031057_20252_2_0\n",
       "194  1031135_20252_2_0\n",
       "\n",
       "[195 rows x 1 columns]"
      ]
     },
     "execution_count": 7,
     "metadata": {},
     "output_type": "execute_result"
    }
   ],
   "source": [
    "# load the dataset \n",
    "import pandas as pd\n",
    "Path = '../data.csv'\n",
    "df = pd.read_csv(Path)\n",
    "filenames = df['Subject'].astype('str').to_numpy()\n",
    "# print(filenames)\n",
    "filenames2 = (filenames + '_Subcortical' +'.mat').tolist()\n",
    "# print(filenames2)\n",
    "df"
   ]
  },
  {
   "cell_type": "code",
   "execution_count": 10,
   "metadata": {},
   "outputs": [
    {
     "name": "stdout",
     "output_type": "stream",
     "text": [
      "Subcortical\t(Samples, Nodes, Feat.):\t(195, 14848, 490)\n"
     ]
    }
   ],
   "source": [
    "# fmri \n",
    "graph_type = {'subcortical':{'path':fmri_subcortical_dir, \n",
    "                             'halves':False}\n",
    "}\n",
    "\n",
    "\n",
    "X = load_fmri(graph_type=graph_type, filenames = filenames2)\n",
    "\n",
    "sub_graphs = list(graph_type.keys())\n",
    "assert sub_graphs == ['subcortical']"
   ]
  },
  {
   "cell_type": "code",
   "execution_count": 11,
   "metadata": {
    "collapsed": true
   },
   "outputs": [],
   "source": [
    "# try\n",
    "X_try = {}\n",
    "X_try['subcortical'] = X['subcortical'][:100,:,10:]\n",
    "del X\n",
    "# X_try['subcortical'] = X['subcortical'][:,:,0:200]\n",
    "X_try['subcortical'].shape\n",
    "X = X_try\n",
    "del X_try"
   ]
  },
  {
   "cell_type": "code",
   "execution_count": 12,
   "metadata": {},
   "outputs": [
    {
     "data": {
      "text/plain": [
       "(100, 14848, 480)"
      ]
     },
     "execution_count": 12,
     "metadata": {},
     "output_type": "execute_result"
    }
   ],
   "source": [
    "X['subcortical'].shape"
   ]
  },
  {
   "cell_type": "code",
   "execution_count": 13,
   "metadata": {},
   "outputs": [
    {
     "name": "stdout",
     "output_type": "stream",
     "text": [
      "0.019178856 40.186802\n"
     ]
    },
    {
     "data": {
      "text/plain": [
       "(100, 14848, 480)"
      ]
     },
     "execution_count": 13,
     "metadata": {},
     "output_type": "execute_result"
    }
   ],
   "source": [
    "# fmri block\n",
    "from scipy.linalg import block_diag\n",
    "from sklearn.utils import resample\n",
    "\n",
    "all_nodes = np.concatenate([X[sub].flatten() for sub in sub_graphs])\n",
    "# X_max = np.max(all_nodes)\n",
    "# X_min = np.min(all_nodes)\n",
    "X_mean = np.mean(all_nodes)\n",
    "X_std = np.std(all_nodes)\n",
    "\n",
    "print(X_mean, X_std)\n",
    "\n",
    "for sub in sub_graphs:\n",
    "    X[sub] = (X[sub] - X_mean) / X_std\n",
    "#     X[sub] *= 2\n",
    "#     X[sub] -= 1\n",
    "del all_nodes   \n",
    "all_nodes = np.concatenate([X[sub].flatten() for sub in sub_graphs])\n",
    "del all_nodes\n",
    "\n",
    "new_X = []\n",
    "for A in zip(X[f\"subcortical\"]):\n",
    "    new_X.append(np.concatenate((A), axis = 0))\n",
    "    \n",
    "X = np.concatenate([np.expand_dims(i, axis=0) for i in new_X], axis=0).astype('float32')\n",
    "X.shape\n"
   ]
  },
  {
   "cell_type": "code",
   "execution_count": 14,
   "metadata": {},
   "outputs": [
    {
     "data": {
      "text/plain": [
       "(48000, 14848, 1)"
      ]
     },
     "execution_count": 14,
     "metadata": {},
     "output_type": "execute_result"
    }
   ],
   "source": [
    "# split with time point\n",
    "new_X = []\n",
    "# bb.T.reshape()\n",
    "for i in range(X.shape[0]):\n",
    "    new_X.append(X[i,:,:].T)\n",
    "new_XX = np.concatenate([np.expand_dims(i, axis=0) for i in new_X], axis=0).astype('float32')\n",
    "X_re = np.reshape(new_XX, (X.shape[0]* X.shape[2], X.shape[1], 1))\n",
    "del X\n",
    "X_re.shape"
   ]
  },
  {
   "cell_type": "code",
   "execution_count": 15,
   "metadata": {
    "collapsed": true
   },
   "outputs": [],
   "source": [
    "del new_XX\n",
    "X_re2 = np.reshape(X_re, (8000,6,14848,1))"
   ]
  },
  {
   "cell_type": "code",
   "execution_count": 16,
   "metadata": {},
   "outputs": [
    {
     "data": {
      "text/plain": [
       "(8000, 6, 14848, 1)"
      ]
     },
     "execution_count": 16,
     "metadata": {},
     "output_type": "execute_result"
    }
   ],
   "source": [
    "X_re2.shape"
   ]
  },
  {
   "cell_type": "code",
   "execution_count": 17,
   "metadata": {
    "collapsed": true
   },
   "outputs": [],
   "source": [
    "# import matplotlib.pyplot as plt\n",
    "# fig = X_re2[10, 0, :, :]\n",
    "# plt.plot(fig)"
   ]
  },
  {
   "cell_type": "code",
   "execution_count": 18,
   "metadata": {
    "collapsed": true
   },
   "outputs": [],
   "source": [
    "# fig = X_re2[10,9, :, :]\n",
    "# plt.plot(fig)"
   ]
  },
  {
   "cell_type": "code",
   "execution_count": 19,
   "metadata": {
    "colab": {},
    "colab_type": "code",
    "id": "goQRb1A3jY5y"
   },
   "outputs": [
    {
     "name": "stdout",
     "output_type": "stream",
     "text": [
      "(6400, 6, 14848, 1) (1600, 6, 14848, 1)\n"
     ]
    }
   ],
   "source": [
    "\n",
    "X_train, X_test = X_re2[:8*800,:,:,:], X_re2[8*800:,:,:,:]\n",
    "# X_ttest = X_re[39000:,:,:]\n",
    "del X_re\n",
    "del X_re2\n",
    "print(X_train.shape, X_test.shape)\n",
    "batch_size = 4\n",
    "\n",
    "train_generator = utils.DataGenerator2(X_train, \n",
    "                                      batch_size = batch_size, \n",
    "                                      shuffle=True, \n",
    "                                      force_balance=False, \n",
    "                                      do_augmentation = False, \n",
    "#                                       tta=10, \n",
    "#                                       aug_params=aug_training,\n",
    "                                      auto_encoder=True)\n",
    "test_generator  = utils.DataGenerator2(X_test,  \n",
    "                                      batch_size = batch_size, \n",
    "                                      shuffle=False, \n",
    "                                      force_balance=False, \n",
    "                                      do_augmentation = False, \n",
    "#                                       tta=10, \n",
    "#                                       aug_params=aug_testing,\n",
    "                                      auto_encoder=True)\n",
    "\n",
    "# ttest_generator  = utils.DataGenerator(X_ttest,  \n",
    "#                                       batch_size = 1, \n",
    "#                                       shuffle=False, \n",
    "#                                       force_balance=False, \n",
    "#                                       do_augmentation = False, \n",
    "# #                                       tta=10, \n",
    "# #                                       aug_params=aug_testing,\n",
    "#                                       auto_encoder=True)"
   ]
  },
  {
   "cell_type": "code",
   "execution_count": 20,
   "metadata": {},
   "outputs": [
    {
     "name": "stdout",
     "output_type": "stream",
     "text": [
      "1600\n"
     ]
    },
    {
     "data": {
      "text/plain": [
       "400"
      ]
     },
     "execution_count": 20,
     "metadata": {},
     "output_type": "execute_result"
    }
   ],
   "source": [
    "print(len(train_generator))\n",
    "len(test_generator)"
   ]
  },
  {
   "cell_type": "markdown",
   "metadata": {
    "colab_type": "text",
    "id": "C4o5Wr64kf7C"
   },
   "source": [
    "## Architecture of the network"
   ]
  },
  {
   "cell_type": "code",
   "execution_count": 23,
   "metadata": {},
   "outputs": [
    {
     "name": "stdout",
     "output_type": "stream",
     "text": [
      "Model: \"encoder\"\n",
      "__________________________________________________________________________________________________\n",
      "Layer (type)                    Output Shape         Param #     Connected to                     \n",
      "==================================================================================================\n",
      "input_3 (InputLayer)            [(None, 6, 14848, 1) 0                                            \n",
      "__________________________________________________________________________________________________\n",
      "time_distributed_183 (TimeDistr (None, 6, 14848, 32) 128         input_3[0][0]                    \n",
      "__________________________________________________________________________________________________\n",
      "time_distributed_184 (TimeDistr (None, 6, 14848, 32) 3104        time_distributed_183[0][0]       \n",
      "__________________________________________________________________________________________________\n",
      "time_distributed_185 (TimeDistr (None, 6, 14848, 32) 128         time_distributed_184[0][0]       \n",
      "__________________________________________________________________________________________________\n",
      "time_distributed_186 (TimeDistr (None, 6, 14848, 32) 0           time_distributed_185[0][0]       \n",
      "__________________________________________________________________________________________________\n",
      "time_distributed_187 (TimeDistr (None, 6, 14848, 32) 3072        time_distributed_186[0][0]       \n",
      "__________________________________________________________________________________________________\n",
      "time_distributed_188 (TimeDistr (None, 6, 14848, 32) 128         time_distributed_187[0][0]       \n",
      "__________________________________________________________________________________________________\n",
      "time_distributed_189 (TimeDistr (None, 6, 14848, 32) 0           time_distributed_188[0][0]       \n",
      "__________________________________________________________________________________________________\n",
      "time_distributed_190 (TimeDistr (None, 6, 7424, 32)  0           time_distributed_189[0][0]       \n",
      "__________________________________________________________________________________________________\n",
      "time_distributed_191 (TimeDistr (None, 6, 7424, 32)  3104        time_distributed_190[0][0]       \n",
      "__________________________________________________________________________________________________\n",
      "time_distributed_192 (TimeDistr (None, 6, 7424, 32)  128         time_distributed_191[0][0]       \n",
      "__________________________________________________________________________________________________\n",
      "time_distributed_193 (TimeDistr (None, 6, 7424, 32)  0           time_distributed_192[0][0]       \n",
      "__________________________________________________________________________________________________\n",
      "time_distributed_194 (TimeDistr (None, 6, 7424, 32)  3072        time_distributed_193[0][0]       \n",
      "__________________________________________________________________________________________________\n",
      "time_distributed_195 (TimeDistr (None, 6, 7424, 32)  128         time_distributed_194[0][0]       \n",
      "__________________________________________________________________________________________________\n",
      "time_distributed_196 (TimeDistr (None, 6, 7424, 32)  0           time_distributed_195[0][0]       \n",
      "__________________________________________________________________________________________________\n",
      "time_distributed_197 (TimeDistr (None, 6, 7424, 32)  3104        time_distributed_196[0][0]       \n",
      "__________________________________________________________________________________________________\n",
      "time_distributed_198 (TimeDistr (None, 6, 7424, 32)  128         time_distributed_197[0][0]       \n",
      "__________________________________________________________________________________________________\n",
      "time_distributed_199 (TimeDistr (None, 6, 7424, 32)  0           time_distributed_198[0][0]       \n",
      "__________________________________________________________________________________________________\n",
      "time_distributed_200 (TimeDistr (None, 6, 7424, 32)  3072        time_distributed_199[0][0]       \n",
      "__________________________________________________________________________________________________\n",
      "time_distributed_201 (TimeDistr (None, 6, 7424, 32)  128         time_distributed_200[0][0]       \n",
      "__________________________________________________________________________________________________\n",
      "time_distributed_202 (TimeDistr (None, 6, 7424, 32)  0           time_distributed_201[0][0]       \n",
      "__________________________________________________________________________________________________\n",
      "time_distributed_203 (TimeDistr (None, 6, 3712, 32)  0           time_distributed_202[0][0]       \n",
      "__________________________________________________________________________________________________\n",
      "time_distributed_204 (TimeDistr (None, 6, 3712, 32)  3104        time_distributed_203[0][0]       \n",
      "__________________________________________________________________________________________________\n",
      "time_distributed_205 (TimeDistr (None, 6, 3712, 32)  128         time_distributed_204[0][0]       \n",
      "__________________________________________________________________________________________________\n",
      "time_distributed_206 (TimeDistr (None, 6, 3712, 32)  0           time_distributed_205[0][0]       \n",
      "__________________________________________________________________________________________________\n",
      "time_distributed_207 (TimeDistr (None, 6, 3712, 32)  3072        time_distributed_206[0][0]       \n",
      "__________________________________________________________________________________________________\n",
      "time_distributed_208 (TimeDistr (None, 6, 3712, 32)  128         time_distributed_207[0][0]       \n",
      "__________________________________________________________________________________________________\n",
      "time_distributed_209 (TimeDistr (None, 6, 3712, 32)  0           time_distributed_208[0][0]       \n",
      "__________________________________________________________________________________________________\n",
      "time_distributed_210 (TimeDistr (None, 6, 3712, 32)  3104        time_distributed_209[0][0]       \n",
      "__________________________________________________________________________________________________\n",
      "time_distributed_211 (TimeDistr (None, 6, 3712, 32)  128         time_distributed_210[0][0]       \n",
      "__________________________________________________________________________________________________\n",
      "time_distributed_212 (TimeDistr (None, 6, 3712, 32)  0           time_distributed_211[0][0]       \n",
      "__________________________________________________________________________________________________\n",
      "time_distributed_213 (TimeDistr (None, 6, 3712, 32)  3072        time_distributed_212[0][0]       \n",
      "__________________________________________________________________________________________________\n",
      "time_distributed_214 (TimeDistr (None, 6, 3712, 32)  128         time_distributed_213[0][0]       \n",
      "__________________________________________________________________________________________________\n",
      "time_distributed_215 (TimeDistr (None, 6, 3712, 32)  0           time_distributed_214[0][0]       \n",
      "__________________________________________________________________________________________________\n",
      "time_distributed_216 (TimeDistr (None, 6, 1856, 32)  0           time_distributed_215[0][0]       \n",
      "__________________________________________________________________________________________________\n",
      "time_distributed_217 (TimeDistr (None, 6, 1856, 32)  3104        time_distributed_216[0][0]       \n",
      "__________________________________________________________________________________________________\n",
      "time_distributed_218 (TimeDistr (None, 6, 1856, 32)  128         time_distributed_217[0][0]       \n",
      "__________________________________________________________________________________________________\n",
      "time_distributed_219 (TimeDistr (None, 6, 1856, 32)  0           time_distributed_218[0][0]       \n",
      "__________________________________________________________________________________________________\n",
      "time_distributed_220 (TimeDistr (None, 6, 1856, 32)  3072        time_distributed_219[0][0]       \n",
      "__________________________________________________________________________________________________\n",
      "time_distributed_221 (TimeDistr (None, 6, 1856, 32)  128         time_distributed_220[0][0]       \n",
      "__________________________________________________________________________________________________\n",
      "time_distributed_222 (TimeDistr (None, 6, 1856, 32)  0           time_distributed_221[0][0]       \n",
      "__________________________________________________________________________________________________\n",
      "time_distributed_223 (TimeDistr (None, 6, 1856, 32)  3104        time_distributed_222[0][0]       \n",
      "__________________________________________________________________________________________________\n",
      "time_distributed_224 (TimeDistr (None, 6, 1856, 32)  128         time_distributed_223[0][0]       \n",
      "__________________________________________________________________________________________________\n",
      "time_distributed_225 (TimeDistr (None, 6, 1856, 32)  0           time_distributed_224[0][0]       \n",
      "__________________________________________________________________________________________________\n",
      "time_distributed_226 (TimeDistr (None, 6, 1856, 32)  3072        time_distributed_225[0][0]       \n",
      "__________________________________________________________________________________________________\n",
      "time_distributed_227 (TimeDistr (None, 6, 1856, 32)  128         time_distributed_226[0][0]       \n",
      "__________________________________________________________________________________________________\n",
      "time_distributed_228 (TimeDistr (None, 6, 1856, 32)  0           time_distributed_227[0][0]       \n",
      "__________________________________________________________________________________________________\n",
      "time_distributed_229 (TimeDistr (None, 6, 928, 32)   0           time_distributed_228[0][0]       \n",
      "__________________________________________________________________________________________________\n",
      "time_distributed_230 (TimeDistr (None, 6, 928, 32)   3104        time_distributed_229[0][0]       \n",
      "__________________________________________________________________________________________________\n",
      "time_distributed_231 (TimeDistr (None, 6, 928, 32)   128         time_distributed_230[0][0]       \n",
      "__________________________________________________________________________________________________\n",
      "time_distributed_232 (TimeDistr (None, 6, 928, 32)   0           time_distributed_231[0][0]       \n",
      "__________________________________________________________________________________________________\n",
      "time_distributed_233 (TimeDistr (None, 6, 928, 32)   3072        time_distributed_232[0][0]       \n",
      "__________________________________________________________________________________________________\n",
      "time_distributed_234 (TimeDistr (None, 6, 928, 32)   128         time_distributed_233[0][0]       \n",
      "__________________________________________________________________________________________________\n",
      "time_distributed_235 (TimeDistr (None, 6, 928, 32)   0           time_distributed_234[0][0]       \n",
      "__________________________________________________________________________________________________\n",
      "time_distributed_236 (TimeDistr (None, 6, 928, 32)   3104        time_distributed_235[0][0]       \n",
      "__________________________________________________________________________________________________\n",
      "time_distributed_237 (TimeDistr (None, 6, 928, 32)   128         time_distributed_236[0][0]       \n",
      "__________________________________________________________________________________________________\n",
      "time_distributed_238 (TimeDistr (None, 6, 928, 32)   0           time_distributed_237[0][0]       \n",
      "__________________________________________________________________________________________________\n",
      "time_distributed_239 (TimeDistr (None, 6, 928, 32)   3072        time_distributed_238[0][0]       \n",
      "__________________________________________________________________________________________________\n",
      "time_distributed_240 (TimeDistr (None, 6, 928, 32)   128         time_distributed_239[0][0]       \n",
      "__________________________________________________________________________________________________\n",
      "time_distributed_241 (TimeDistr (None, 6, 928, 32)   0           time_distributed_240[0][0]       \n",
      "__________________________________________________________________________________________________\n",
      "time_distributed_242 (TimeDistr (None, 6, 464, 32)   0           time_distributed_241[0][0]       \n",
      "__________________________________________________________________________________________________\n",
      "time_distributed_243 (TimeDistr (None, 6, 464, 32)   3104        time_distributed_242[0][0]       \n",
      "__________________________________________________________________________________________________\n",
      "time_distributed_244 (TimeDistr (None, 6, 464, 32)   128         time_distributed_243[0][0]       \n",
      "__________________________________________________________________________________________________\n",
      "time_distributed_245 (TimeDistr (None, 6, 464, 32)   0           time_distributed_244[0][0]       \n",
      "__________________________________________________________________________________________________\n",
      "time_distributed_246 (TimeDistr (None, 6, 464, 32)   3072        time_distributed_245[0][0]       \n",
      "__________________________________________________________________________________________________\n",
      "time_distributed_247 (TimeDistr (None, 6, 464, 32)   128         time_distributed_246[0][0]       \n",
      "__________________________________________________________________________________________________\n",
      "time_distributed_248 (TimeDistr (None, 6, 464, 32)   0           time_distributed_247[0][0]       \n",
      "__________________________________________________________________________________________________\n",
      "time_distributed_249 (TimeDistr (None, 6, 464, 32)   3104        time_distributed_248[0][0]       \n",
      "__________________________________________________________________________________________________\n",
      "time_distributed_250 (TimeDistr (None, 6, 464, 32)   128         time_distributed_249[0][0]       \n",
      "__________________________________________________________________________________________________\n",
      "time_distributed_251 (TimeDistr (None, 6, 464, 32)   0           time_distributed_250[0][0]       \n",
      "__________________________________________________________________________________________________\n",
      "time_distributed_252 (TimeDistr (None, 6, 464, 32)   3072        time_distributed_251[0][0]       \n",
      "__________________________________________________________________________________________________\n",
      "time_distributed_253 (TimeDistr (None, 6, 464, 32)   128         time_distributed_252[0][0]       \n",
      "__________________________________________________________________________________________________\n",
      "time_distributed_254 (TimeDistr (None, 6, 464, 32)   0           time_distributed_253[0][0]       \n",
      "__________________________________________________________________________________________________\n",
      "time_distributed_255 (TimeDistr (None, 6, 232, 32)   0           time_distributed_254[0][0]       \n",
      "__________________________________________________________________________________________________\n",
      "time_distributed_256 (TimeDistr (None, 6, 232, 32)   3104        time_distributed_255[0][0]       \n",
      "__________________________________________________________________________________________________\n",
      "time_distributed_257 (TimeDistr (None, 6, 232, 32)   128         time_distributed_256[0][0]       \n",
      "__________________________________________________________________________________________________\n",
      "time_distributed_258 (TimeDistr (None, 6, 232, 32)   0           time_distributed_257[0][0]       \n",
      "__________________________________________________________________________________________________\n",
      "time_distributed_259 (TimeDistr (None, 6, 232, 32)   3072        time_distributed_258[0][0]       \n",
      "__________________________________________________________________________________________________\n",
      "time_distributed_260 (TimeDistr (None, 6, 232, 32)   128         time_distributed_259[0][0]       \n",
      "__________________________________________________________________________________________________\n",
      "time_distributed_261 (TimeDistr (None, 6, 232, 32)   0           time_distributed_260[0][0]       \n",
      "__________________________________________________________________________________________________\n",
      "time_distributed_262 (TimeDistr (None, 6, 232, 32)   3104        time_distributed_261[0][0]       \n",
      "__________________________________________________________________________________________________\n",
      "time_distributed_263 (TimeDistr (None, 6, 232, 32)   128         time_distributed_262[0][0]       \n",
      "__________________________________________________________________________________________________\n",
      "time_distributed_264 (TimeDistr (None, 6, 232, 32)   0           time_distributed_263[0][0]       \n",
      "__________________________________________________________________________________________________\n",
      "time_distributed_265 (TimeDistr (None, 6, 232, 32)   3072        time_distributed_264[0][0]       \n",
      "__________________________________________________________________________________________________\n",
      "time_distributed_266 (TimeDistr (None, 6, 232, 32)   128         time_distributed_265[0][0]       \n",
      "__________________________________________________________________________________________________\n",
      "time_distributed_267 (TimeDistr (None, 6, 232, 32)   0           time_distributed_266[0][0]       \n",
      "__________________________________________________________________________________________________\n",
      "time_distributed_268 (TimeDistr (None, 6, 116, 32)   0           time_distributed_267[0][0]       \n",
      "__________________________________________________________________________________________________\n",
      "time_distributed_269 (TimeDistr (None, 6, 3712)      0           time_distributed_268[0][0]       \n",
      "__________________________________________________________________________________________________\n",
      "lstm_1 (LSTM)                   (None, 6, 256)       4064256     time_distributed_269[0][0]       \n",
      "__________________________________________________________________________________________________\n",
      "time_distributed_270 (TimeDistr (None, 6, 256)       65792       lstm_1[0][0]                     \n",
      "__________________________________________________________________________________________________\n",
      "time_distributed_271 (TimeDistr (None, 6, 256)       65792       lstm_1[0][0]                     \n",
      "__________________________________________________________________________________________________\n",
      "encoder_output (Lambda)         (None, 6, 256)       0           time_distributed_270[0][0]       \n",
      "                                                                 time_distributed_271[0][0]       \n",
      "==================================================================================================\n",
      "Total params: 4,279,584\n",
      "Trainable params: 4,277,920\n",
      "Non-trainable params: 1,664\n",
      "__________________________________________________________________________________________________\n"
     ]
    },
    {
     "name": "stdout",
     "output_type": "stream",
     "text": [
      "Model: \"decoder\"\n",
      "_________________________________________________________________\n",
      "Layer (type)                 Output Shape              Param #   \n",
      "=================================================================\n",
      "input_4 (InputLayer)         [(None, 6, 256)]          0         \n",
      "_________________________________________________________________\n",
      "time_distributed_272 (TimeDi (None, 6, 3712)           953984    \n",
      "_________________________________________________________________\n",
      "time_distributed_273 (TimeDi (None, 6, 116, 32)        0         \n",
      "_________________________________________________________________\n",
      "time_distributed_274 (TimeDi (None, 6, 116, 32)        3072      \n",
      "_________________________________________________________________\n",
      "time_distributed_275 (TimeDi (None, 6, 116, 32)        128       \n",
      "_________________________________________________________________\n",
      "time_distributed_276 (TimeDi (None, 6, 116, 32)        0         \n",
      "_________________________________________________________________\n",
      "time_distributed_277 (TimeDi (None, 6, 116, 32)        3072      \n",
      "_________________________________________________________________\n",
      "time_distributed_278 (TimeDi (None, 6, 116, 32)        128       \n",
      "_________________________________________________________________\n",
      "time_distributed_279 (TimeDi (None, 6, 116, 32)        0         \n",
      "_________________________________________________________________\n",
      "time_distributed_280 (TimeDi (None, 6, 116, 32)        3072      \n",
      "_________________________________________________________________\n",
      "time_distributed_281 (TimeDi (None, 6, 116, 32)        128       \n",
      "_________________________________________________________________\n",
      "time_distributed_282 (TimeDi (None, 6, 116, 32)        0         \n",
      "_________________________________________________________________\n",
      "time_distributed_283 (TimeDi (None, 6, 116, 32)        3072      \n",
      "_________________________________________________________________\n",
      "time_distributed_284 (TimeDi (None, 6, 116, 32)        128       \n",
      "_________________________________________________________________\n",
      "time_distributed_285 (TimeDi (None, 6, 116, 32)        0         \n",
      "_________________________________________________________________\n",
      "time_distributed_286 (TimeDi (None, 6, 232, 32)        0         \n",
      "_________________________________________________________________\n",
      "time_distributed_287 (TimeDi (None, 6, 232, 32)        3072      \n",
      "_________________________________________________________________\n",
      "time_distributed_288 (TimeDi (None, 6, 232, 32)        128       \n",
      "_________________________________________________________________\n",
      "time_distributed_289 (TimeDi (None, 6, 232, 32)        0         \n",
      "_________________________________________________________________\n",
      "time_distributed_290 (TimeDi (None, 6, 232, 32)        3072      \n",
      "_________________________________________________________________\n",
      "time_distributed_291 (TimeDi (None, 6, 232, 32)        128       \n",
      "_________________________________________________________________\n",
      "time_distributed_292 (TimeDi (None, 6, 232, 32)        0         \n",
      "_________________________________________________________________\n",
      "time_distributed_293 (TimeDi (None, 6, 232, 32)        3072      \n",
      "_________________________________________________________________\n",
      "time_distributed_294 (TimeDi (None, 6, 232, 32)        128       \n",
      "_________________________________________________________________\n",
      "time_distributed_295 (TimeDi (None, 6, 232, 32)        0         \n",
      "_________________________________________________________________\n",
      "time_distributed_296 (TimeDi (None, 6, 232, 32)        3072      \n",
      "_________________________________________________________________\n",
      "time_distributed_297 (TimeDi (None, 6, 232, 32)        128       \n",
      "_________________________________________________________________\n",
      "time_distributed_298 (TimeDi (None, 6, 232, 32)        0         \n",
      "_________________________________________________________________\n",
      "time_distributed_299 (TimeDi (None, 6, 464, 32)        0         \n",
      "_________________________________________________________________\n",
      "time_distributed_300 (TimeDi (None, 6, 464, 32)        3072      \n",
      "_________________________________________________________________\n",
      "time_distributed_301 (TimeDi (None, 6, 464, 32)        128       \n",
      "_________________________________________________________________\n",
      "time_distributed_302 (TimeDi (None, 6, 464, 32)        0         \n",
      "_________________________________________________________________\n",
      "time_distributed_303 (TimeDi (None, 6, 464, 32)        3072      \n",
      "_________________________________________________________________\n",
      "time_distributed_304 (TimeDi (None, 6, 464, 32)        128       \n",
      "_________________________________________________________________\n",
      "time_distributed_305 (TimeDi (None, 6, 464, 32)        0         \n",
      "_________________________________________________________________\n",
      "time_distributed_306 (TimeDi (None, 6, 464, 32)        3072      \n",
      "_________________________________________________________________\n",
      "time_distributed_307 (TimeDi (None, 6, 464, 32)        128       \n",
      "_________________________________________________________________\n",
      "time_distributed_308 (TimeDi (None, 6, 464, 32)        0         \n",
      "_________________________________________________________________\n",
      "time_distributed_309 (TimeDi (None, 6, 464, 32)        3072      \n",
      "_________________________________________________________________\n",
      "time_distributed_310 (TimeDi (None, 6, 464, 32)        128       \n",
      "_________________________________________________________________\n",
      "time_distributed_311 (TimeDi (None, 6, 464, 32)        0         \n",
      "_________________________________________________________________\n",
      "time_distributed_312 (TimeDi (None, 6, 928, 32)        0         \n",
      "_________________________________________________________________\n",
      "time_distributed_313 (TimeDi (None, 6, 928, 32)        3072      \n",
      "_________________________________________________________________\n",
      "time_distributed_314 (TimeDi (None, 6, 928, 32)        128       \n",
      "_________________________________________________________________\n",
      "time_distributed_315 (TimeDi (None, 6, 928, 32)        0         \n",
      "_________________________________________________________________\n",
      "time_distributed_316 (TimeDi (None, 6, 928, 32)        3072      \n",
      "_________________________________________________________________\n",
      "time_distributed_317 (TimeDi (None, 6, 928, 32)        128       \n",
      "_________________________________________________________________\n",
      "time_distributed_318 (TimeDi (None, 6, 928, 32)        0         \n",
      "_________________________________________________________________\n",
      "time_distributed_319 (TimeDi (None, 6, 928, 32)        3072      \n",
      "_________________________________________________________________\n",
      "time_distributed_320 (TimeDi (None, 6, 928, 32)        128       \n",
      "_________________________________________________________________\n",
      "time_distributed_321 (TimeDi (None, 6, 928, 32)        0         \n",
      "_________________________________________________________________\n",
      "time_distributed_322 (TimeDi (None, 6, 928, 32)        3072      \n",
      "_________________________________________________________________\n",
      "time_distributed_323 (TimeDi (None, 6, 928, 32)        128       \n",
      "_________________________________________________________________\n",
      "time_distributed_324 (TimeDi (None, 6, 928, 32)        0         \n",
      "_________________________________________________________________\n",
      "time_distributed_325 (TimeDi (None, 6, 1856, 32)       0         \n",
      "_________________________________________________________________\n",
      "time_distributed_326 (TimeDi (None, 6, 1856, 32)       3072      \n",
      "_________________________________________________________________\n",
      "time_distributed_327 (TimeDi (None, 6, 1856, 32)       128       \n",
      "_________________________________________________________________\n",
      "time_distributed_328 (TimeDi (None, 6, 1856, 32)       0         \n",
      "_________________________________________________________________\n",
      "time_distributed_329 (TimeDi (None, 6, 1856, 32)       3072      \n",
      "_________________________________________________________________\n",
      "time_distributed_330 (TimeDi (None, 6, 1856, 32)       128       \n",
      "_________________________________________________________________\n",
      "time_distributed_331 (TimeDi (None, 6, 1856, 32)       0         \n",
      "_________________________________________________________________\n",
      "time_distributed_332 (TimeDi (None, 6, 1856, 32)       3072      \n",
      "_________________________________________________________________\n",
      "time_distributed_333 (TimeDi (None, 6, 1856, 32)       128       \n",
      "_________________________________________________________________\n",
      "time_distributed_334 (TimeDi (None, 6, 1856, 32)       0         \n",
      "_________________________________________________________________\n",
      "time_distributed_335 (TimeDi (None, 6, 1856, 32)       3072      \n",
      "_________________________________________________________________\n",
      "time_distributed_336 (TimeDi (None, 6, 1856, 32)       128       \n",
      "_________________________________________________________________\n",
      "time_distributed_337 (TimeDi (None, 6, 1856, 32)       0         \n",
      "_________________________________________________________________\n",
      "time_distributed_338 (TimeDi (None, 6, 3712, 32)       0         \n",
      "_________________________________________________________________\n",
      "time_distributed_339 (TimeDi (None, 6, 3712, 32)       3072      \n",
      "_________________________________________________________________\n",
      "time_distributed_340 (TimeDi (None, 6, 3712, 32)       128       \n",
      "_________________________________________________________________\n",
      "time_distributed_341 (TimeDi (None, 6, 3712, 32)       0         \n",
      "_________________________________________________________________\n",
      "time_distributed_342 (TimeDi (None, 6, 3712, 32)       3072      \n",
      "_________________________________________________________________\n",
      "time_distributed_343 (TimeDi (None, 6, 3712, 32)       128       \n",
      "_________________________________________________________________\n",
      "time_distributed_344 (TimeDi (None, 6, 3712, 32)       0         \n",
      "_________________________________________________________________\n",
      "time_distributed_345 (TimeDi (None, 6, 3712, 32)       3072      \n",
      "_________________________________________________________________\n",
      "time_distributed_346 (TimeDi (None, 6, 3712, 32)       128       \n",
      "_________________________________________________________________\n",
      "time_distributed_347 (TimeDi (None, 6, 3712, 32)       0         \n",
      "_________________________________________________________________\n",
      "time_distributed_348 (TimeDi (None, 6, 3712, 32)       3072      \n",
      "_________________________________________________________________\n",
      "time_distributed_349 (TimeDi (None, 6, 3712, 32)       128       \n",
      "_________________________________________________________________\n",
      "time_distributed_350 (TimeDi (None, 6, 3712, 32)       0         \n",
      "_________________________________________________________________\n",
      "time_distributed_351 (TimeDi (None, 6, 7424, 32)       0         \n",
      "_________________________________________________________________\n",
      "time_distributed_352 (TimeDi (None, 6, 7424, 32)       3072      \n",
      "_________________________________________________________________\n",
      "time_distributed_353 (TimeDi (None, 6, 7424, 32)       128       \n",
      "_________________________________________________________________\n",
      "time_distributed_354 (TimeDi (None, 6, 7424, 32)       0         \n",
      "_________________________________________________________________\n",
      "time_distributed_355 (TimeDi (None, 6, 7424, 32)       3072      \n",
      "_________________________________________________________________\n",
      "time_distributed_356 (TimeDi (None, 6, 7424, 32)       128       \n",
      "_________________________________________________________________\n",
      "time_distributed_357 (TimeDi (None, 6, 7424, 32)       0         \n",
      "_________________________________________________________________\n",
      "time_distributed_358 (TimeDi (None, 6, 7424, 32)       3072      \n",
      "_________________________________________________________________\n",
      "time_distributed_359 (TimeDi (None, 6, 7424, 32)       128       \n",
      "_________________________________________________________________\n",
      "time_distributed_360 (TimeDi (None, 6, 7424, 32)       0         \n",
      "_________________________________________________________________\n",
      "time_distributed_361 (TimeDi (None, 6, 7424, 32)       3072      \n",
      "_________________________________________________________________\n",
      "time_distributed_362 (TimeDi (None, 6, 7424, 32)       128       \n",
      "_________________________________________________________________\n",
      "time_distributed_363 (TimeDi (None, 6, 7424, 32)       0         \n",
      "_________________________________________________________________\n",
      "time_distributed_364 (TimeDi (None, 6, 14848, 32)      0         \n",
      "_________________________________________________________________\n",
      "time_distributed_365 (TimeDi (None, 6, 14848, 1)       96        \n",
      "=================================================================\n",
      "Total params: 1,043,680\n",
      "Trainable params: 1,041,888\n",
      "Non-trainable params: 1,792\n",
      "_________________________________________________________________\n"
     ]
    },
    {
     "name": "stdout",
     "output_type": "stream",
     "text": [
      "Model: \"vae\"\n",
      "_________________________________________________________________\n",
      "Layer (type)                 Output Shape              Param #   \n",
      "=================================================================\n",
      "input_3 (InputLayer)         [(None, 6, 14848, 1)]     0         \n",
      "_________________________________________________________________\n",
      "encoder (Model)              [(None, 6, 256), (None, 6 4279584   \n",
      "_________________________________________________________________\n",
      "decoder (Model)              (None, 6, 14848, 1)       1043680   \n",
      "=================================================================\n",
      "Total params: 5,323,264\n",
      "Trainable params: 5,319,808\n",
      "Non-trainable params: 3,456\n",
      "_________________________________________________________________\n"
     ]
    }
   ],
   "source": [
    "from tensorflow.keras.layers import LSTM\n",
    "from tensorflow.keras.models import Model\n",
    "from tensorflow.keras.losses import mse\n",
    "from tensorflow.keras import layers\n",
    "from tensorflow.keras.layers import (\n",
    "    Input, Dense, GRU, GlobalAveragePooling1D, \n",
    "    GlobalAveragePooling2D, TimeDistributed, \n",
    "    concatenate, Masking, Bidirectional\n",
    ")\n",
    "encoder_inputs = keras.Input(shape=(6,14848,1))\n",
    "latent_dim = 256\n",
    "Depth = 7\n",
    "n_filter = 32\n",
    "\n",
    "for B in range(Depth):\n",
    "    for F in range(2):\n",
    "        if B == 0 and F == 0:\n",
    "            x1 = TimeDistributed(utils.ChebLayer(L[B],3,n_filter,use_bias=True,kernel_regularizer=keras.regularizers.l2(5e-5)))(encoder_inputs)\n",
    "        else:\n",
    "            x1 = TimeDistributed(utils.ChebLayer(L[B],3,n_filter,use_bias=True,kernel_regularizer=keras.regularizers.l2(5e-5)))(x1)\n",
    "            x1 = TimeDistributed(keras.layers.BatchNormalization())(x1)\n",
    "            x1 = TimeDistributed(keras.layers.Activation('elu'))(x1)\n",
    "            x1 = TimeDistributed(utils.ChebLayer(L[B],3,n_filter,use_bias=False,kernel_regularizer=keras.regularizers.l2(5e-5)))(x1)\n",
    "            x1 = TimeDistributed(keras.layers.BatchNormalization())(x1)\n",
    "            x1 = TimeDistributed(keras.layers.Activation('elu'))(x1)\n",
    "    x1 = TimeDistributed(keras.layers.MaxPooling1D(2))(x1)\n",
    "x =  TimeDistributed(layers.Flatten())(x1)\n",
    "        \n",
    "x = LSTM(units=256, activation='elu', kernel_initializer='glorot_uniform', unit_forget_bias=True, dropout=0.3, return_sequences = True)(x)\n",
    "z_mean = TimeDistributed(layers.Dense(latent_dim, name = 'z_mean'))(x)\n",
    "z_log_var = TimeDistributed(layers.Dense(latent_dim, name = 'z_log_var'))(x)\n",
    "#         print(z_mean.shape)\n",
    "#         print(z_log_var[2][2])\n",
    "        \n",
    "def sampling(args):\n",
    "    z_mean, z_log_var = args\n",
    "    epsilon = K.random_normal(shape=K.shape(z_mean), mean=0., stddev=1.) \n",
    "    return z_mean + K.exp(z_log_var/2)*epsilon \n",
    "z = layers.Lambda(sampling, name='encoder_output')([z_mean, z_log_var])\n",
    "encoder = keras.Model(encoder_inputs, [z_mean, z_log_var, z], name=\"encoder\")\n",
    "encoder.summary()\n",
    "\n",
    "\n",
    "# Decoder ResNet Blocks\n",
    "latent_inputs = keras.Input(shape=(6,latent_dim,))\n",
    "x = TimeDistributed(layers.Dense(3712))(latent_inputs)\n",
    "x = TimeDistributed(layers.Reshape((116, 32)))(x)\n",
    "# print(x.shape)\n",
    "for B in range(Depth):\n",
    "    for F in range(2):\n",
    "        #print(L[Depth - B].shape)\n",
    "        if B == 0 and F == 0:\n",
    "            x1 = TimeDistributed(utils.ChebLayer(L[Depth - B],3,n_filter,use_bias=False,kernel_regularizer=keras.regularizers.l2(5e-5)))(x)\n",
    "        else:\n",
    "            x1 = TimeDistributed(utils.ChebLayer(L[Depth - B],3,n_filter,use_bias=False,kernel_regularizer=keras.regularizers.l2(5e-5)))(x1)\n",
    "        x1 = TimeDistributed(keras.layers.BatchNormalization())(x1)\n",
    "        x1 = TimeDistributed(keras.layers.Activation('elu'))(x1)\n",
    "        x1 = TimeDistributed(utils.ChebLayer(L[Depth - B],3,n_filter,use_bias=False,kernel_regularizer=keras.regularizers.l2(5e-5)))(x1)\n",
    "        x1 = TimeDistributed(keras.layers.BatchNormalization())(x1)\n",
    "        x1 = TimeDistributed(keras.layers.Activation('elu'))(x1)\n",
    "    x1 = TimeDistributed(keras.layers.UpSampling1D(size=2))(x1)\n",
    "decoder_outputs = TimeDistributed(utils.ChebLayer(L[0],3,1,use_bias=False,kernel_regularizer=keras.regularizers.l2(5e-5)))(x1)\n",
    "decoder = keras.Model(latent_inputs, decoder_outputs, name=\"decoder\")\n",
    "decoder.summary()\n",
    "\n",
    "# Instantiate VAE\n",
    "vae_outputs = decoder(encoder(encoder_inputs)[2])\n",
    "vae         = Model(encoder_inputs, vae_outputs, name='vae')\n",
    "vae.summary()\n",
    "\n"
   ]
  },
  {
   "cell_type": "code",
   "execution_count": 25,
   "metadata": {
    "collapsed": true
   },
   "outputs": [],
   "source": [
    "LEARNING_RATE = 0.0002\n",
    "LOSS_FACTOR = 500\n",
    "\n",
    "def r_loss(y_true, y_pred):\n",
    "    return K.mean(K.square(y_true - y_pred), axis = [1,2])\n",
    "\n",
    "def kl_loss(y_true, y_pred):\n",
    "    kl_loss =  -0.5 * K.sum(1 + z_log_var - K.square(z_mean) - K.exp(z_log_var), axis = 1)\n",
    "    return kl_loss\n",
    "\n",
    "def total_loss(y_true, y_pred):\n",
    "    return LOSS_FACTOR*r_loss(y_true, y_pred) + kl_loss(y_true, y_pred)\n",
    "  \n",
    "adam_optimizer = keras.optimizers.Adam(lr = LEARNING_RATE)\n",
    "\n",
    "vae.compile(optimizer=adam_optimizer, loss = total_loss, metrics = [r_loss, kl_loss])"
   ]
  },
  {
   "cell_type": "code",
   "execution_count": 26,
   "metadata": {
    "collapsed": true
   },
   "outputs": [],
   "source": [
    "from tensorflow.keras.callbacks import EarlyStopping, ModelCheckpoint, ReduceLROnPlateau\n",
    "es = EarlyStopping(monitor='val_loss', \n",
    "                   verbose=1, \n",
    "                   patience=8, \n",
    "                   min_delta=0.0001, \n",
    "                   mode='min')\n",
    "mc = ModelCheckpoint('../lstm_vae.hdf5', \n",
    "                     monitor='val_loss', \n",
    "                     verbose=1, \n",
    "                     save_best_only=True, \n",
    "                     mode='min')\n",
    "rlr = ReduceLROnPlateau(monitor='val_loss',\n",
    "                        mode='min',\n",
    "                        factor=0.1,\n",
    "                        patience=8)"
   ]
  },
  {
   "cell_type": "code",
   "execution_count": 1,
   "metadata": {
    "colab": {
     "base_uri": "https://localhost:8080/",
     "height": 34
    },
    "colab_type": "code",
    "id": "vMyX9D3buIIM",
    "outputId": "7cedd5f0-1c86-40b1-e9d1-8b76aaa86928"
   },
   "outputs": [],
   "source": [
    "epochs = 100\n",
    "history = vae.fit(train_generator, validation_data=test_generator, epochs = epochs, use_multiprocessing=False, callbacks = [es, mc,rlr])"
   ]
  },
  {
   "cell_type": "code",
   "execution_count": 28,
   "metadata": {},
   "outputs": [
    {
     "data": {
      "image/png": "[encoded data removed]",
      "text/plain": [
       "<Figure size 432x288 with 1 Axes>"
      ]
     },
     "metadata": {
      "needs_background": "light"
     },
     "output_type": "display_data"
    }
   ],
   "source": [
    "# Plot history: Categorical crossentropy & Accuracy\n",
    "import matplotlib.pyplot as plt\n",
    "plt.plot(history.history['loss'], label='Categorical crossentropy (training data)')\n",
    "plt.plot(history.history['val_loss'], label='Categorical crossentropy (validation data)')\n",
    "# plt.plot(history.history['acc'], label='Accuracy (training data)')\n",
    "# plt.plot(history.history['val_acc'], label='Accuracy (validation data)')\n",
    "plt.title('Model performance for 3D MNIST Keras Conv3D example')\n",
    "plt.ylabel('Loss value')\n",
    "plt.xlabel('No. epoch')\n",
    "plt.legend(loc=\"upper left\")\n",
    "\n",
    "plt.show()"
   ]
  }
 ],
 "metadata": {
  "accelerator": "GPU",
  "colab": {
   "authorship_tag": "ABX9TyMdSPYkDYl1nXjPSEKUrOVK",
   "collapsed_sections": [],
   "machine_shape": "hm",
   "name": "GraphAutoEncoder.ipynb",
   "provenance": []
  },
  "kernelspec": {
   "display_name": "Python 3",
   "language": "python",
   "name": "python3"
  },
  "language_info": {
   "codemirror_mode": {
    "name": "ipython",
    "version": 3
   },
   "file_extension": ".py",
   "mimetype": "text/x-python",
   "name": "python",
   "nbconvert_exporter": "python",
   "pygments_lexer": "ipython3",
   "version": "3.5.3"
  }
 },
 "nbformat": 4,
 "nbformat_minor": 1
}
